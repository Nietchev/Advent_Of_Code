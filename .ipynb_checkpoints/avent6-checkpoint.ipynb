{
 "cells": [
  {
   "cell_type": "code",
   "execution_count": 59,
   "id": "7faaa79a",
   "metadata": {},
   "outputs": [],
   "source": [
    "import pandas as pd\n",
    "import numpy as np\n",
    "import re"
   ]
  },
  {
   "cell_type": "code",
   "execution_count": 35,
   "id": "21fd9dfd",
   "metadata": {},
   "outputs": [],
   "source": [
    "def load_data():\n",
    "    data = []\n",
    "    with open('data/avent6') as f:\n",
    "        temp = []\n",
    "        for line in f:\n",
    "            if line == \"\\n\":\n",
    "                data.append(\"\".join(temp))\n",
    "                temp = []\n",
    "            else :\n",
    "                temp.append(line.strip())\n",
    "        data.append(\"\".join(temp))\n",
    "    return data"
   ]
  },
  {
   "cell_type": "code",
   "execution_count": 36,
   "id": "063c787b",
   "metadata": {},
   "outputs": [],
   "source": [
    "data = load_data()"
   ]
  },
  {
   "cell_type": "code",
   "execution_count": 41,
   "id": "6bc26cbb",
   "metadata": {},
   "outputs": [],
   "source": [
    "def count_yes(data):\n",
    "    numb = 0\n",
    "    for line in data:\n",
    "        count = len(set(line))\n",
    "        #numb.append(count)\n",
    "        numb = numb +count\n",
    "    return numb"
   ]
  },
  {
   "cell_type": "code",
   "execution_count": 44,
   "id": "c0fc097c",
   "metadata": {},
   "outputs": [],
   "source": [
    "number_yes = count_yes(data)"
   ]
  },
  {
   "cell_type": "code",
   "execution_count": 76,
   "id": "8e53570f",
   "metadata": {},
   "outputs": [],
   "source": [
    "def load_data_sep():\n",
    "    data = []\n",
    "    with open('data/avent6') as f:\n",
    "        temp = []\n",
    "        for line in f:\n",
    "            if line == \"\\n\":\n",
    "                data.append(\" \".join(temp))\n",
    "                temp = []\n",
    "            else :\n",
    "                temp.append(line.strip())\n",
    "        data.append(\" \".join(temp))\n",
    "    return data"
   ]
  },
  {
   "cell_type": "code",
   "execution_count": 77,
   "id": "bd541cb5",
   "metadata": {},
   "outputs": [],
   "source": [
    "data_sep = load_data_sep()"
   ]
  },
  {
   "cell_type": "code",
   "execution_count": 109,
   "id": "7a5f4003",
   "metadata": {},
   "outputs": [],
   "source": [
    "test = 'aqdb ac iga lpopjoa'\n",
    "set_t = set(test.strip())\n",
    "test2 = test.split(\" \")"
   ]
  },
  {
   "cell_type": "code",
   "execution_count": 101,
   "id": "f55250fc",
   "metadata": {},
   "outputs": [
    {
     "data": {
      "text/plain": [
       "(['aqdb', 'ac', 'iga', 'lpopjoa'],\n",
       " {' ', 'a', 'b', 'c', 'd', 'g', 'i', 'j', 'l', 'o', 'p', 'q'})"
      ]
     },
     "execution_count": 101,
     "metadata": {},
     "output_type": "execute_result"
    }
   ],
   "source": [
    "test2 , set_1"
   ]
  },
  {
   "cell_type": "code",
   "execution_count": 90,
   "id": "7096e580",
   "metadata": {},
   "outputs": [],
   "source": [
    "def count_yes_all(data):\n",
    "    numb = 0\n",
    "    for line in data:\n",
    "        set_line = set(line)\n",
    "        temp = line.split(\" \")\n",
    "        \n",
    "        for char in set_line:\n",
    "            if all([char in temp]):\n",
    "                numb +=1\n",
    "        # numb = [all([k in p for k in temp]) for p in line.split(' ')]\n",
    "    return numb"
   ]
  },
  {
   "cell_type": "code",
   "execution_count": 133,
   "id": "4425dbcc",
   "metadata": {},
   "outputs": [
    {
     "data": {
      "text/plain": [
       "True"
      ]
     },
     "execution_count": 133,
     "metadata": {},
     "output_type": "execute_result"
    }
   ],
   "source": [
    "all([['i' in word] for word in test2])"
   ]
  },
  {
   "cell_type": "code",
   "execution_count": 113,
   "id": "afb4027a",
   "metadata": {},
   "outputs": [
    {
     "data": {
      "text/plain": [
       "0"
      ]
     },
     "execution_count": 113,
     "metadata": {},
     "output_type": "execute_result"
    }
   ],
   "source": [
    "numb"
   ]
  },
  {
   "cell_type": "code",
   "execution_count": null,
   "id": "1c238dd7",
   "metadata": {},
   "outputs": [],
   "source": []
  }
 ],
 "metadata": {
  "kernelspec": {
   "display_name": "Python 3 (ipykernel)",
   "language": "python",
   "name": "python3"
  },
  "language_info": {
   "codemirror_mode": {
    "name": "ipython",
    "version": 3
   },
   "file_extension": ".py",
   "mimetype": "text/x-python",
   "name": "python",
   "nbconvert_exporter": "python",
   "pygments_lexer": "ipython3",
   "version": "3.8.12"
  },
  "toc": {
   "base_numbering": 1,
   "nav_menu": {},
   "number_sections": true,
   "sideBar": true,
   "skip_h1_title": false,
   "title_cell": "Table of Contents",
   "title_sidebar": "Contents",
   "toc_cell": false,
   "toc_position": {},
   "toc_section_display": true,
   "toc_window_display": false
  }
 },
 "nbformat": 4,
 "nbformat_minor": 5
}
