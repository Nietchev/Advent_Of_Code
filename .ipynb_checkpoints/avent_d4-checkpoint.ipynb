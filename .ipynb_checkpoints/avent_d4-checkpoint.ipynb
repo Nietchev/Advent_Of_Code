{
 "cells": [
  {
   "cell_type": "code",
   "execution_count": 6,
   "id": "fcb5e2c0",
   "metadata": {},
   "outputs": [],
   "source": [
    "import pandas as pd\n",
    "import numpy as np"
   ]
  },
  {
   "cell_type": "code",
   "execution_count": 28,
   "id": "bb8ac691",
   "metadata": {},
   "outputs": [],
   "source": [
    "def load_data():\n",
    "    data = []\n",
    "    with open('data/avent4') as f:\n",
    "        temp = []\n",
    "        for line in f:\n",
    "            if line == \"\\n\":\n",
    "                data.append(\" \".join(temp))\n",
    "                temp = []\n",
    "            else :\n",
    "                temp.append(line.strip())\n",
    "        data.append(temp)\n",
    "    return data"
   ]
  },
  {
   "cell_type": "code",
   "execution_count": 29,
   "id": "6193366d",
   "metadata": {},
   "outputs": [],
   "source": [
    "data = load_data()"
   ]
  },
  {
   "cell_type": "code",
   "execution_count": 35,
   "id": "172c1527",
   "metadata": {},
   "outputs": [
    {
     "data": {
      "text/plain": [
       "288"
      ]
     },
     "execution_count": 35,
     "metadata": {},
     "output_type": "execute_result"
    }
   ],
   "source": [
    "len(data)"
   ]
  },
  {
   "cell_type": "code",
   "execution_count": 31,
   "id": "113b2fce",
   "metadata": {},
   "outputs": [],
   "source": [
    "keys = [\"byr:\", \"iyr:\", \"eyr:\", \"hgt:\", \"hcl:\", \"ecl:\", \"pid:\", \"cid:\"]\n",
    "keys_opt = [\"byr:\", \"iyr:\", \"eyr:\", \"hgt:\", \"hcl:\", \"ecl:\", \"pid:\"]"
   ]
  },
  {
   "cell_type": "code",
   "execution_count": 32,
   "id": "58fba8a7",
   "metadata": {},
   "outputs": [],
   "source": [
    "def count_pass(data):\n",
    "    count = len(data)\n",
    "    for line in data:\n",
    "        for key in keys_opt:\n",
    "            if key not in line:\n",
    "                count -=1\n",
    "                break\n",
    "    return count"
   ]
  },
  {
   "cell_type": "code",
   "execution_count": 33,
   "id": "61267418",
   "metadata": {},
   "outputs": [
    {
     "data": {
      "text/plain": [
       "232"
      ]
     },
     "execution_count": 33,
     "metadata": {},
     "output_type": "execute_result"
    }
   ],
   "source": [
    "count_pass(data)"
   ]
  },
  {
   "cell_type": "code",
   "execution_count": null,
   "id": "17f3de0d",
   "metadata": {},
   "outputs": [],
   "source": [
    "def count_valid(data):\n",
    "    count = len(data)\n",
    "    test = 0\n",
    "    for line in data:\n",
    "        if all(attr in line for attr in REQUIRED_FIELDS):\n",
    "            test +=1\n",
    "    return test"
   ]
  },
  {
   "cell_type": "code",
   "execution_count": null,
   "id": "592b167b",
   "metadata": {},
   "outputs": [],
   "source": [
    "count_valid(data)"
   ]
  },
  {
   "cell_type": "code",
   "execution_count": null,
   "id": "89ddccbe",
   "metadata": {},
   "outputs": [],
   "source": []
  }
 ],
 "metadata": {
  "kernelspec": {
   "display_name": "Python 3 (ipykernel)",
   "language": "python",
   "name": "python3"
  },
  "language_info": {
   "codemirror_mode": {
    "name": "ipython",
    "version": 3
   },
   "file_extension": ".py",
   "mimetype": "text/x-python",
   "name": "python",
   "nbconvert_exporter": "python",
   "pygments_lexer": "ipython3",
   "version": "3.8.12"
  },
  "toc": {
   "base_numbering": 1,
   "nav_menu": {},
   "number_sections": true,
   "sideBar": true,
   "skip_h1_title": false,
   "title_cell": "Table of Contents",
   "title_sidebar": "Contents",
   "toc_cell": false,
   "toc_position": {},
   "toc_section_display": true,
   "toc_window_display": false
  }
 },
 "nbformat": 4,
 "nbformat_minor": 5
}
