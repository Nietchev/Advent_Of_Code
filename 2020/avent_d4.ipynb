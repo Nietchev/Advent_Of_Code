{
 "cells": [
  {
   "cell_type": "code",
   "execution_count": 41,
   "id": "fcb5e2c0",
   "metadata": {},
   "outputs": [],
   "source": [
    "import pandas as pd\n",
    "import numpy as np\n",
    "import re"
   ]
  },
  {
   "cell_type": "code",
   "execution_count": 59,
   "id": "bb8ac691",
   "metadata": {},
   "outputs": [],
   "source": [
    "def load_data():\n",
    "    data = []\n",
    "    with open('data/avent4') as f:\n",
    "        temp = []\n",
    "        for line in f:\n",
    "            if line == \"\\n\":\n",
    "                data.append(\" \".join(temp))\n",
    "                temp = []\n",
    "            else :\n",
    "                temp.append(line.strip())\n",
    "        data.append(\"\".join(temp))\n",
    "    return data"
   ]
  },
  {
   "cell_type": "code",
   "execution_count": 61,
   "id": "9f3c817f",
   "metadata": {},
   "outputs": [],
   "source": [
    "data = load_data()"
   ]
  },
  {
   "cell_type": "code",
   "execution_count": 46,
   "id": "113b2fce",
   "metadata": {},
   "outputs": [],
   "source": [
    "keys_opt = [\"byr:\", \"iyr:\", \"eyr:\", \"hgt:\", \"hcl:\", \"ecl:\", \"pid:\"]"
   ]
  },
  {
   "cell_type": "code",
   "execution_count": 63,
   "id": "58fba8a7",
   "metadata": {},
   "outputs": [],
   "source": [
    "def count_pass(data):\n",
    "    count = len(data)\n",
    "    for doc in data:\n",
    "        for key in keys_opt:\n",
    "            if key not in doc:\n",
    "                count -= 1\n",
    "                break\n",
    "    return count"
   ]
  },
  {
   "cell_type": "code",
   "execution_count": 64,
   "id": "61267418",
   "metadata": {},
   "outputs": [
    {
     "data": {
      "text/plain": [
       "233"
      ]
     },
     "execution_count": 64,
     "metadata": {},
     "output_type": "execute_result"
    }
   ],
   "source": [
    "count_pass(data)"
   ]
  },
  {
   "cell_type": "code",
   "execution_count": 65,
   "id": "17f3de0d",
   "metadata": {},
   "outputs": [],
   "source": [
    "def count_valid(data):\n",
    "    test = 0\n",
    "    for line in data:\n",
    "        if all(attr in line for attr in keys_opt):\n",
    "            test += 1\n",
    "    return test"
   ]
  },
  {
   "cell_type": "code",
   "execution_count": 66,
   "id": "592b167b",
   "metadata": {},
   "outputs": [
    {
     "data": {
      "text/plain": [
       "233"
      ]
     },
     "execution_count": 66,
     "metadata": {},
     "output_type": "execute_result"
    }
   ],
   "source": [
    "count_valid(data)"
   ]
  },
  {
   "cell_type": "markdown",
   "id": "9624c766",
   "metadata": {},
   "source": [
    "Rules:\n",
    "\n",
    "    byr (Birth Year) - four digits; at least 1920 and at most 2002.\n",
    "    iyr (Issue Year) - four digits; at least 2010 and at most 2020.\n",
    "    eyr (Expiration Year) - four digits; at least 2020 and at most 2030.\n",
    "    hgt (Height) - a number followed by either cm or in:\n",
    "        If cm, the number must be at least 150 and at most 193.\n",
    "        If in, the number must be at least 59 and at most 76.\n",
    "    hcl (Hair Color) - a # followed by exactly six characters 0-9 or a-f.\n",
    "    ecl (Eye Color) - exactly one of: amb blu brn gry grn hzl oth.\n",
    "    pid (Passport ID) - a nine-digit number, including leading zeroes.\n",
    "    cid (Country ID) - ignored, missing or not.\n"
   ]
  },
  {
   "cell_type": "code",
   "execution_count": 54,
   "id": "f61aedfa",
   "metadata": {},
   "outputs": [
    {
     "name": "stdout",
     "output_type": "stream",
     "text": [
      "Part 1: 233\n",
      "Part 2: 111\n"
     ]
    }
   ],
   "source": [
    "import re\n",
    "import sys\n",
    "\n",
    "keys = {\n",
    "    \"byr\": r\"byr:\\s*(19[2-9]\\d|200[0-2])\\b\",  # (Birth Year) - four digits; at least 1920 and at most 2002.\n",
    "    \"iyr\": r\"iyr:\\s*20(1\\d|20)\\b\",  # (Issue Year) - four digits; at least 2010 and at most 2020.\n",
    "    \"eyr\": r\"eyr:\\s*20(2\\d|30)\\b\",  # (Expiration Year) - four digits; at least 2020 and at most 2030.\n",
    "    \"hgt\": r\"hgt:\\s*(1([5-8]\\d|9[0-3])cm|(59|6\\d|7[0-6])in)\",  # (Height) - a number followed by either cm or in:\n",
    "    # \"If cm, the number must be at least 150 and at most 193.\n",
    "    # \"If in, the number must be at least 59 and at most 76.\n",
    "    \"hcl\": r\"hcl:\\s*#[0-9a-f]{6}\\b\",  # (Hair Color) - a # followed by exactly six characters 0-9 or a-f.\n",
    "    \"ecl\": r\"ecl:\\s*(amb|blu|brn|gry|grn|hzl|oth)\\b\",  # (Eye Color) - exactly one of: amb blu brn gry grn hzl oth.\n",
    "    \"pid\": r\"pid:\\s*\\d{9}\\b\",  # (Passport ID) - a nine-digit number, including leading zeroes.\n",
    "    # \"cid\", # (Country ID) - ignored, missing or not.\n",
    "}\n",
    "\n",
    "with open('data/avent4', \"r\") as f:\n",
    "    passports = f.read().split(\"\\n\\n\")\n",
    "\n",
    "num_keys_valid = sum([all([k in p for k in keys]) for p in passports])\n",
    "print(f\"Part 1: {num_keys_valid}\")\n",
    "\n",
    "num_data_valid = sum([all([re.search(keys[k], p) for k in keys]) for p in passports])\n",
    "print(f\"Part 2: {num_data_valid}\")"
   ]
  },
  {
   "cell_type": "code",
   "execution_count": null,
   "id": "0b1a149f",
   "metadata": {},
   "outputs": [],
   "source": []
  }
 ],
 "metadata": {
  "kernelspec": {
   "display_name": "Python 3 (ipykernel)",
   "language": "python",
   "name": "python3"
  },
  "language_info": {
   "codemirror_mode": {
    "name": "ipython",
    "version": 3
   },
   "file_extension": ".py",
   "mimetype": "text/x-python",
   "name": "python",
   "nbconvert_exporter": "python",
   "pygments_lexer": "ipython3",
   "version": "3.8.12"
  },
  "toc": {
   "base_numbering": 1,
   "nav_menu": {},
   "number_sections": true,
   "sideBar": true,
   "skip_h1_title": false,
   "title_cell": "Table of Contents",
   "title_sidebar": "Contents",
   "toc_cell": false,
   "toc_position": {},
   "toc_section_display": true,
   "toc_window_display": false
  }
 },
 "nbformat": 4,
 "nbformat_minor": 5
}
