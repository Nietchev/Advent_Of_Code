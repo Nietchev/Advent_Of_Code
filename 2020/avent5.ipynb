{
 "cells": [
  {
   "cell_type": "code",
   "execution_count": 164,
   "id": "6e705216",
   "metadata": {},
   "outputs": [],
   "source": [
    "import numpy as np\n",
    "import pandas as pd\n",
    "import re"
   ]
  },
  {
   "cell_type": "markdown",
   "id": "29c07e13",
   "metadata": {},
   "source": [
    "    BFFFBBFRRR: row 70, column 7, seat ID 567.\n",
    "    FFFBBBFRRR: row 14, column 7, seat ID 119.\n",
    "    BBFFBBFRLL: row 102, column 4, seat ID 820.\n",
    "    seat ID: multiply the row by 8, then add the column"
   ]
  },
  {
   "cell_type": "code",
   "execution_count": 165,
   "id": "e9a250d1",
   "metadata": {},
   "outputs": [],
   "source": [
    "test1 = 'BFFFBBFRRR'\n",
    "test2 = 'FFFBBBFRRR'\n",
    "test3 = 'BBFFBBFRLL'"
   ]
  },
  {
   "cell_type": "code",
   "execution_count": 166,
   "id": "8b8967b0",
   "metadata": {},
   "outputs": [],
   "source": [
    "def load_data():\n",
    "    data = []\n",
    "    with open('data/avent5') as f:\n",
    "        for line in f:\n",
    "            data.append(line.strip('\\n'))\n",
    "    return data"
   ]
  },
  {
   "cell_type": "code",
   "execution_count": 167,
   "id": "0d1d51a9",
   "metadata": {},
   "outputs": [],
   "source": [
    "def translate(line):\n",
    "    line = line.replace(\"B\", \"1\")\n",
    "    line = line.replace('F', '0')\n",
    "    line = line.replace(\"R\", \"1\")\n",
    "    line = line.replace('L', '0')\n",
    "    return line\n",
    "\n",
    "def get_seat(line):\n",
    "    seat = []\n",
    "    seat.append(int(line[0:7],2))\n",
    "    seat.append(int(line[7:10],2))\n",
    "    seat.append(seat[0]*8 + seat [1])\n",
    "    return seat "
   ]
  },
  {
   "cell_type": "code",
   "execution_count": 183,
   "id": "857f593f",
   "metadata": {},
   "outputs": [],
   "source": [
    "data = load_data()"
   ]
  },
  {
   "cell_type": "code",
   "execution_count": 184,
   "id": "b173ca4b",
   "metadata": {},
   "outputs": [],
   "source": [
    "df = []\n",
    "for line in data:\n",
    "    line = translate(line)\n",
    "    df.append(line)"
   ]
  },
  {
   "cell_type": "code",
   "execution_count": 185,
   "id": "315a5269",
   "metadata": {},
   "outputs": [],
   "source": [
    "list_seats = []\n",
    "for line in df:\n",
    "    list_seats.append(get_seat(line))"
   ]
  },
  {
   "cell_type": "code",
   "execution_count": 186,
   "id": "cd80b70b",
   "metadata": {},
   "outputs": [],
   "source": [
    "list_seats = pd.DataFrame(list_seats)\n",
    "#list_seats = get_seat(data)"
   ]
  },
  {
   "cell_type": "code",
   "execution_count": 187,
   "id": "4c1ea6b8",
   "metadata": {},
   "outputs": [
    {
     "data": {
      "text/html": [
       "<div>\n",
       "<style scoped>\n",
       "    .dataframe tbody tr th:only-of-type {\n",
       "        vertical-align: middle;\n",
       "    }\n",
       "\n",
       "    .dataframe tbody tr th {\n",
       "        vertical-align: top;\n",
       "    }\n",
       "\n",
       "    .dataframe thead th {\n",
       "        text-align: right;\n",
       "    }\n",
       "</style>\n",
       "<table border=\"1\" class=\"dataframe\">\n",
       "  <thead>\n",
       "    <tr style=\"text-align: right;\">\n",
       "      <th></th>\n",
       "      <th>0</th>\n",
       "      <th>1</th>\n",
       "      <th>2</th>\n",
       "    </tr>\n",
       "  </thead>\n",
       "  <tbody>\n",
       "    <tr>\n",
       "      <th>count</th>\n",
       "      <td>888.000000</td>\n",
       "      <td>888.000000</td>\n",
       "      <td>888.00000</td>\n",
       "    </tr>\n",
       "    <tr>\n",
       "      <th>mean</th>\n",
       "      <td>55.793919</td>\n",
       "      <td>3.503378</td>\n",
       "      <td>449.85473</td>\n",
       "    </tr>\n",
       "    <tr>\n",
       "      <th>std</th>\n",
       "      <td>32.111581</td>\n",
       "      <td>2.294051</td>\n",
       "      <td>256.88464</td>\n",
       "    </tr>\n",
       "    <tr>\n",
       "      <th>min</th>\n",
       "      <td>0.000000</td>\n",
       "      <td>0.000000</td>\n",
       "      <td>6.00000</td>\n",
       "    </tr>\n",
       "    <tr>\n",
       "      <th>25%</th>\n",
       "      <td>28.000000</td>\n",
       "      <td>1.750000</td>\n",
       "      <td>227.75000</td>\n",
       "    </tr>\n",
       "    <tr>\n",
       "      <th>50%</th>\n",
       "      <td>56.000000</td>\n",
       "      <td>4.000000</td>\n",
       "      <td>449.50000</td>\n",
       "    </tr>\n",
       "    <tr>\n",
       "      <th>75%</th>\n",
       "      <td>84.000000</td>\n",
       "      <td>6.000000</td>\n",
       "      <td>672.25000</td>\n",
       "    </tr>\n",
       "    <tr>\n",
       "      <th>max</th>\n",
       "      <td>111.000000</td>\n",
       "      <td>7.000000</td>\n",
       "      <td>894.00000</td>\n",
       "    </tr>\n",
       "  </tbody>\n",
       "</table>\n",
       "</div>"
      ],
      "text/plain": [
       "                0           1          2\n",
       "count  888.000000  888.000000  888.00000\n",
       "mean    55.793919    3.503378  449.85473\n",
       "std     32.111581    2.294051  256.88464\n",
       "min      0.000000    0.000000    6.00000\n",
       "25%     28.000000    1.750000  227.75000\n",
       "50%     56.000000    4.000000  449.50000\n",
       "75%     84.000000    6.000000  672.25000\n",
       "max    111.000000    7.000000  894.00000"
      ]
     },
     "execution_count": 187,
     "metadata": {},
     "output_type": "execute_result"
    }
   ],
   "source": [
    "list_seats.describe()"
   ]
  },
  {
   "cell_type": "code",
   "execution_count": 173,
   "id": "5d13b02d",
   "metadata": {},
   "outputs": [],
   "source": [
    "results1 = 894"
   ]
  },
  {
   "cell_type": "code",
   "execution_count": 201,
   "id": "d428c945",
   "metadata": {},
   "outputs": [],
   "source": [
    "list1 = set(list_seats[2])\n",
    "list2 = set(np.arange(0,900,1))"
   ]
  },
  {
   "cell_type": "code",
   "execution_count": 205,
   "id": "11e2c23f",
   "metadata": {},
   "outputs": [],
   "source": [
    "res = list(set(list2) - set(list1))"
   ]
  },
  {
   "cell_type": "code",
   "execution_count": 206,
   "id": "c8be4cfb",
   "metadata": {},
   "outputs": [
    {
     "data": {
      "text/plain": [
       "[0, 1, 2, 3, 4, 5, 579, 896, 897, 898, 899, 895]"
      ]
     },
     "execution_count": 206,
     "metadata": {},
     "output_type": "execute_result"
    }
   ],
   "source": [
    "res"
   ]
  },
  {
   "cell_type": "code",
   "execution_count": null,
   "id": "40a6bb14",
   "metadata": {},
   "outputs": [],
   "source": []
  }
 ],
 "metadata": {
  "kernelspec": {
   "display_name": "Python 3 (ipykernel)",
   "language": "python",
   "name": "python3"
  },
  "language_info": {
   "codemirror_mode": {
    "name": "ipython",
    "version": 3
   },
   "file_extension": ".py",
   "mimetype": "text/x-python",
   "name": "python",
   "nbconvert_exporter": "python",
   "pygments_lexer": "ipython3",
   "version": "3.8.12"
  },
  "toc": {
   "base_numbering": 1,
   "nav_menu": {},
   "number_sections": true,
   "sideBar": true,
   "skip_h1_title": false,
   "title_cell": "Table of Contents",
   "title_sidebar": "Contents",
   "toc_cell": false,
   "toc_position": {},
   "toc_section_display": true,
   "toc_window_display": false
  }
 },
 "nbformat": 4,
 "nbformat_minor": 5
}
