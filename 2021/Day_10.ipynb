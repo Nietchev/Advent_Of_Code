{
 "cells": [
  {
   "cell_type": "markdown",
   "id": "f89fe96e",
   "metadata": {},
   "source": [
    "# Day_10"
   ]
  },
  {
   "cell_type": "code",
   "execution_count": 1,
   "id": "29d3cc4f",
   "metadata": {},
   "outputs": [],
   "source": [
    "points ={')' : 3, \n",
    "        ']' : 57, \n",
    "        '}' : 1197, \n",
    "         '>' : 25137\n",
    "    }"
   ]
  },
  {
   "cell_type": "code",
   "execution_count": 86,
   "id": "8a4c53c4",
   "metadata": {},
   "outputs": [],
   "source": [
    "test = ['[({(<(())[]>[[{[]{<()<>>', \n",
    "        '[(()[<>])]({[<{<<[]>>(', \n",
    "        '{([(<{}[<>[]}>{[]{[(<()>', \n",
    "        '(((({<>}<{<{<>}{[]{[]{}', \n",
    "        '[[<[([]))<([[{}[[()]]]', \n",
    "        '[{[{({}]{}}([{[{{{}}([]', \n",
    "        '{<[[]]>}<{[{[{[]{()[[[]', \n",
    "        '[<(<(<(<{}))><([]([]()', \n",
    "        '<{([([[(<>()){}]>(<<{{', \n",
    "        '<{([{{}}[<[[[<>{}]]]>[]]']"
   ]
  },
  {
   "cell_type": "code",
   "execution_count": 3,
   "id": "c2c1e134",
   "metadata": {},
   "outputs": [],
   "source": [
    "navigation = []\n",
    "with open('data/day_10') as file:\n",
    "    for line in file:\n",
    "        navigation.append(line.strip())"
   ]
  },
  {
   "cell_type": "code",
   "execution_count": 91,
   "id": "b6a57a36",
   "metadata": {},
   "outputs": [
    {
     "name": "stdout",
     "output_type": "stream",
     "text": [
      "367227\n",
      "3583341858\n"
     ]
    }
   ],
   "source": [
    "import sys\n",
    "from statistics import median\n",
    "\n",
    "CLOSE = {'(': ')', '[': ']', '{': '}', '<': '>'}\n",
    "CORRUPT = {')': 3, ']': 57, '}': 1197, '>': 25137}\n",
    "\n",
    "def complete(chunk):\n",
    "    expect = []\n",
    "    for char in chunk:\n",
    "        if char in CLOSE:\n",
    "            expect.append(CLOSE[char])\n",
    "        elif char != expect.pop():\n",
    "            return -CORRUPT[char]\n",
    "\n",
    "    score = 0\n",
    "    for char in reversed(expect):\n",
    "        score = score * 5 + ' )]}>'.index(char)\n",
    "    return score\n",
    "\n",
    "scores = [complete(line) for line in navigation]\n",
    "\n",
    "print(sum(-score for score in scores if score < 0))\n",
    "print(median(score for score in scores if score > 0))"
   ]
  },
  {
   "cell_type": "code",
   "execution_count": 89,
   "id": "178d6da9",
   "metadata": {},
   "outputs": [],
   "source": [
    "expect = []\n",
    "for char in test[0]:\n",
    "    if char in CLOSE:\n",
    "        expect.append(CLOSE[char])"
   ]
  },
  {
   "cell_type": "code",
   "execution_count": null,
   "id": "2e597362",
   "metadata": {},
   "outputs": [],
   "source": []
  }
 ],
 "metadata": {
  "kernelspec": {
   "display_name": "Python 3 (ipykernel)",
   "language": "python",
   "name": "python3"
  },
  "language_info": {
   "codemirror_mode": {
    "name": "ipython",
    "version": 3
   },
   "file_extension": ".py",
   "mimetype": "text/x-python",
   "name": "python",
   "nbconvert_exporter": "python",
   "pygments_lexer": "ipython3",
   "version": "3.8.12"
  },
  "toc": {
   "base_numbering": 1,
   "nav_menu": {},
   "number_sections": true,
   "sideBar": true,
   "skip_h1_title": false,
   "title_cell": "Table of Contents",
   "title_sidebar": "Contents",
   "toc_cell": false,
   "toc_position": {},
   "toc_section_display": true,
   "toc_window_display": false
  }
 },
 "nbformat": 4,
 "nbformat_minor": 5
}
