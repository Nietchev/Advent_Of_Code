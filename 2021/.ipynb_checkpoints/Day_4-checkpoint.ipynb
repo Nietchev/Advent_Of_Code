{
 "cells": [
  {
   "cell_type": "markdown",
   "id": "32806cbd",
   "metadata": {},
   "source": [
    "# Day_4"
   ]
  },
  {
   "cell_type": "code",
   "execution_count": 6,
   "id": "73dfa9fc",
   "metadata": {},
   "outputs": [],
   "source": [
    "import pandas as pd\n",
    "import numpy as np"
   ]
  },
  {
   "cell_type": "code",
   "execution_count": 16,
   "id": "35ac0745",
   "metadata": {},
   "outputs": [],
   "source": [
    "num = np.genfromtxt('data/day_4_num', delimiter=',', dtype=int)"
   ]
  },
  {
   "cell_type": "code",
   "execution_count": 17,
   "id": "9ed9431b",
   "metadata": {},
   "outputs": [
    {
     "data": {
      "text/plain": [
       "array([92, 12, 94, 64, 14,  4, 99, 71, 47, 59, 37, 73, 29,  7, 16, 32, 40,\n",
       "       53, 30, 76, 74, 39, 70, 88, 55, 45, 17,  0, 24, 65, 35, 20, 63, 68,\n",
       "       89, 84, 33, 66, 18, 50, 38, 10, 83, 75, 67, 42,  3, 56, 82, 34, 90,\n",
       "       46, 87, 52, 49,  2, 21, 62, 93, 86, 25, 78, 19, 57, 77, 26, 81, 15,\n",
       "       23, 31, 54, 48, 98, 11, 91, 85, 60, 72,  8, 69,  6, 22, 97, 96, 80,\n",
       "       95, 58, 36, 44,  1, 51, 43,  9, 61, 41, 79,  5, 27, 28, 13])"
      ]
     },
     "execution_count": 17,
     "metadata": {},
     "output_type": "execute_result"
    }
   ],
   "source": [
    "num"
   ]
  },
  {
   "cell_type": "code",
   "execution_count": 65,
   "id": "f61a41ea",
   "metadata": {},
   "outputs": [],
   "source": [
    "def load_board(path_data):\n",
    "    boards = []\n",
    "    board = []\n",
    "    count = 0\n",
    "    \n",
    "    with open(path_data) as file:\n",
    "        for line in file:\n",
    "            if count == 5 :\n",
    "                count = 0\n",
    "                boards.append(board)\n",
    "                board = []\n",
    "\n",
    "            else :\n",
    "                board.append(line.strip())\n",
    "                count += 1\n",
    "\n",
    "    boards.append(board)\n",
    "    return boards"
   ]
  },
  {
   "cell_type": "code",
   "execution_count": 68,
   "id": "74e00679",
   "metadata": {},
   "outputs": [],
   "source": [
    "boards = load_board('data/day_4_boards')"
   ]
  },
  {
   "cell_type": "code",
   "execution_count": 71,
   "id": "f24deb28",
   "metadata": {},
   "outputs": [
    {
     "data": {
      "text/plain": [
       "['91 72 10 32 20',\n",
       " '23 18 44 78 61',\n",
       " '46 36 77 60 75',\n",
       " '47 49 16 89  8',\n",
       " '2 95 48 38 85']"
      ]
     },
     "execution_count": 71,
     "metadata": {},
     "output_type": "execute_result"
    }
   ],
   "source": [
    "boards[99]"
   ]
  },
  {
   "cell_type": "code",
   "execution_count": null,
   "id": "d27c94fe",
   "metadata": {},
   "outputs": [],
   "source": []
  }
 ],
 "metadata": {
  "kernelspec": {
   "display_name": "Python 3 (ipykernel)",
   "language": "python",
   "name": "python3"
  },
  "language_info": {
   "codemirror_mode": {
    "name": "ipython",
    "version": 3
   },
   "file_extension": ".py",
   "mimetype": "text/x-python",
   "name": "python",
   "nbconvert_exporter": "python",
   "pygments_lexer": "ipython3",
   "version": "3.8.12"
  },
  "toc": {
   "base_numbering": 1,
   "nav_menu": {},
   "number_sections": true,
   "sideBar": true,
   "skip_h1_title": false,
   "title_cell": "Table of Contents",
   "title_sidebar": "Contents",
   "toc_cell": false,
   "toc_position": {},
   "toc_section_display": true,
   "toc_window_display": false
  }
 },
 "nbformat": 4,
 "nbformat_minor": 5
}
