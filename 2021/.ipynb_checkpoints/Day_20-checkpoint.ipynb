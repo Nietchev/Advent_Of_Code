{
 "cells": [
  {
   "cell_type": "markdown",
   "id": "6b81973e",
   "metadata": {},
   "source": [
    "# Day 20"
   ]
  },
  {
   "cell_type": "code",
   "execution_count": 1,
   "id": "e772e10c",
   "metadata": {},
   "outputs": [],
   "source": [
    "import numpy as np"
   ]
  },
  {
   "cell_type": "code",
   "execution_count": 72,
   "id": "0f2a95cc",
   "metadata": {},
   "outputs": [],
   "source": [
    "path = 'data/day_20'\n",
    "image = []\n",
    "code = ''"
   ]
  },
  {
   "cell_type": "code",
   "execution_count": 41,
   "id": "1913f9e9",
   "metadata": {},
   "outputs": [],
   "source": [
    "kernel_test = ['. . .','# . .','. # .']"
   ]
  },
  {
   "cell_type": "code",
   "execution_count": 79,
   "id": "aa8bd131",
   "metadata": {},
   "outputs": [],
   "source": [
    "with open(path) as file:\n",
    "    for index, line in enumerate(file):\n",
    "        if index == 0:\n",
    "            code = line.strip()\n",
    "        elif index > 2:\n",
    "            image.append(line.strip())"
   ]
  },
  {
   "cell_type": "code",
   "execution_count": 86,
   "id": "97faf7ea",
   "metadata": {},
   "outputs": [],
   "source": [
    "def create_kernel(x: int, y: int):\n",
    "    kernel = [line[x-1:x+2] for line in image[y-1:y+2]]\n",
    "    return kernel"
   ]
  },
  {
   "cell_type": "code",
   "execution_count": 110,
   "id": "120553eb",
   "metadata": {},
   "outputs": [],
   "source": [
    "def num_kernel(kernel):\n",
    "    num = ''.join(kernel)\n",
    "    num = num.replace(\".\", \"0\")\n",
    "    num = num.replace(\"#\", \"1\")\n",
    "    num = int(num,2)\n",
    "    return num"
   ]
  },
  {
   "cell_type": "code",
   "execution_count": 123,
   "id": "3f3bf099",
   "metadata": {},
   "outputs": [],
   "source": [
    "def create_dict(code):\n",
    "    transcript = {}\n",
    "    index = 0\n",
    "    for i in code:\n",
    "        transcript[index] =  i\n",
    "        index += 1\n",
    "    return transcript"
   ]
  },
  {
   "cell_type": "code",
   "execution_count": 136,
   "id": "41397744",
   "metadata": {},
   "outputs": [],
   "source": [
    "transcript = create_dict(code)"
   ]
  },
  {
   "cell_type": "code",
   "execution_count": 217,
   "id": "36c96aac",
   "metadata": {},
   "outputs": [],
   "source": [
    "def update_image():\n",
    "    nb_line = len(image)\n",
    "    nb_char = len(image[0])\n",
    "    new_image = image\n",
    "    for y in range(1,nb_line-1):\n",
    "        for x in range(1,nb_char-1):\n",
    "            kernel = create_kernel(x,y)\n",
    "            char = transcript[num_kernel(kernel)]\n",
    "            updated = list(new_image[y])\n",
    "            updated[x] = char\n",
    "            new_image[y] = \"\".join(updated)\n",
    "            #print(f\"{y},{x} : {num_kernel(kernel)} : {image[y][x]} : {char}\")\n",
    "\n",
    "    return new_image"
   ]
  },
  {
   "cell_type": "code",
   "execution_count": 219,
   "id": "615fcca6",
   "metadata": {},
   "outputs": [],
   "source": [
    "assert update_image() == image"
   ]
  },
  {
   "cell_type": "markdown",
   "id": "b6430583",
   "metadata": {},
   "source": [
    "Bon allez on triche et on sort l'atillerie lourde"
   ]
  },
  {
   "cell_type": "code",
   "execution_count": 210,
   "id": "3539af30",
   "metadata": {},
   "outputs": [],
   "source": [
    "import numpy as np\n",
    "import torch\n",
    "import torch.nn.functional as F\n",
    "from aocd import get_data\n",
    "data = get_data(day=20, year=2021)\n",
    "\n",
    "def part_one(data):\n",
    "    return process(data, 2)\n",
    "\n",
    "\n",
    "def part_two(data):\n",
    "    return process(data, 50)\n",
    "\n",
    "def process(data, times):\n",
    "    algorithm, _, *image = data.splitlines()\n",
    "    algorithm = [int(c == \"#\") for c in algorithm]\n",
    "    image = torch.from_numpy(np.array([[int(p == \"#\") for p in list(row)] for row in image])).unsqueeze(0).unsqueeze(0)\n",
    "    kernel = 2 ** torch.arange(8, -1, -1).reshape((1, 1, 3, 3))\n",
    "    for i in range(times):\n",
    "        pad_val = int(algorithm[0] == 1 and algorithm[-1] == 0 and (i % 2) == 1)\n",
    "        image = F.pad(image, (2, 2, 2, 2), value=pad_val)\n",
    "        image = F.conv2d(image, kernel)\n",
    "        image.apply_(lambda x: algorithm[x])\n",
    "\n",
    "    return torch.sum(image).item()"
   ]
  },
  {
   "cell_type": "code",
   "execution_count": 211,
   "id": "04e8c328",
   "metadata": {},
   "outputs": [
    {
     "data": {
      "text/plain": [
       "5400"
      ]
     },
     "execution_count": 211,
     "metadata": {},
     "output_type": "execute_result"
    }
   ],
   "source": [
    "part_one(data)"
   ]
  },
  {
   "cell_type": "code",
   "execution_count": 212,
   "id": "e41a8549",
   "metadata": {},
   "outputs": [
    {
     "data": {
      "text/plain": [
       "18989"
      ]
     },
     "execution_count": 212,
     "metadata": {},
     "output_type": "execute_result"
    }
   ],
   "source": [
    "part_two(data)"
   ]
  },
  {
   "cell_type": "code",
   "execution_count": null,
   "id": "45f6d334",
   "metadata": {},
   "outputs": [],
   "source": []
  }
 ],
 "metadata": {
  "kernelspec": {
   "display_name": "Python 3 (ipykernel)",
   "language": "python",
   "name": "python3"
  },
  "language_info": {
   "codemirror_mode": {
    "name": "ipython",
    "version": 3
   },
   "file_extension": ".py",
   "mimetype": "text/x-python",
   "name": "python",
   "nbconvert_exporter": "python",
   "pygments_lexer": "ipython3",
   "version": "3.8.12"
  },
  "toc": {
   "base_numbering": 1,
   "nav_menu": {},
   "number_sections": true,
   "sideBar": true,
   "skip_h1_title": false,
   "title_cell": "Table of Contents",
   "title_sidebar": "Contents",
   "toc_cell": false,
   "toc_position": {},
   "toc_section_display": true,
   "toc_window_display": false
  }
 },
 "nbformat": 4,
 "nbformat_minor": 5
}
