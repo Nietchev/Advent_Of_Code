{
 "cells": [
  {
   "cell_type": "code",
   "execution_count": 3,
   "id": "84a1d7b8",
   "metadata": {},
   "outputs": [
    {
     "name": "stdout",
     "output_type": "stream",
     "text": [
      "805932\n",
      "133029050096658\n"
     ]
    }
   ],
   "source": [
    "import sys\n",
    "from itertools import cycle\n",
    "from functools import lru_cache\n",
    "\n",
    "def move(pos, score, amount):\n",
    "    pos = (pos + amount - 1) % 10 + 1\n",
    "    return pos, score + pos\n",
    "\n",
    "def practice(a, b):\n",
    "    players = [(a, 0), (b, 0)]\n",
    "    die = cycle(range(1, 101))\n",
    "    rolls = 0\n",
    "    while True:\n",
    "        for player, (pos, score) in enumerate(players):\n",
    "            roll = next(die) + next(die) + next(die)\n",
    "            rolls += 3\n",
    "            pos, score = players[player] = move(pos, score, roll)\n",
    "            if score >= 1000:\n",
    "                otherpos, otherscore = players[1 - player]\n",
    "                return rolls * otherscore\n",
    "\n",
    "def play(a, b):\n",
    "    @lru_cache(maxsize=None)\n",
    "    def count_wins(a, b):\n",
    "        awins = bwins = 0\n",
    "        for x in range(1, 4):\n",
    "            for y in range(1, 4):\n",
    "                for z in range(1, 4):\n",
    "                    pos, score = roll_a = move(*a, x + y + z)\n",
    "                    if score >= 21:\n",
    "                        awins += 1\n",
    "                    else:\n",
    "                        roll_bwins, roll_awins = count_wins(b, roll_a)\n",
    "                        awins += roll_awins\n",
    "                        bwins += roll_bwins\n",
    "        return awins, bwins\n",
    "    return max(count_wins((a, 0), (b, 0)))\n",
    "\n",
    "a, b = 2, 7\n",
    "print(practice(a, b))\n",
    "print(play(a, b))"
   ]
  },
  {
   "cell_type": "code",
   "execution_count": null,
   "id": "f5e9d130",
   "metadata": {},
   "outputs": [],
   "source": []
  }
 ],
 "metadata": {
  "kernelspec": {
   "display_name": "Python 3 (ipykernel)",
   "language": "python",
   "name": "python3"
  },
  "language_info": {
   "codemirror_mode": {
    "name": "ipython",
    "version": 3
   },
   "file_extension": ".py",
   "mimetype": "text/x-python",
   "name": "python",
   "nbconvert_exporter": "python",
   "pygments_lexer": "ipython3",
   "version": "3.8.12"
  },
  "toc": {
   "base_numbering": 1,
   "nav_menu": {},
   "number_sections": true,
   "sideBar": true,
   "skip_h1_title": false,
   "title_cell": "Table of Contents",
   "title_sidebar": "Contents",
   "toc_cell": false,
   "toc_position": {},
   "toc_section_display": true,
   "toc_window_display": false
  }
 },
 "nbformat": 4,
 "nbformat_minor": 5
}
