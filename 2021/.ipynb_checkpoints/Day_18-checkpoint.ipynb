{
 "cells": [
  {
   "cell_type": "markdown",
   "id": "154e0f98",
   "metadata": {},
   "source": [
    "# Naive"
   ]
  },
  {
   "cell_type": "code",
   "execution_count": 13,
   "id": "8d1f57bc",
   "metadata": {},
   "outputs": [],
   "source": [
    "from ast import literal_eval"
   ]
  },
  {
   "cell_type": "code",
   "execution_count": 14,
   "id": "e088264b",
   "metadata": {},
   "outputs": [],
   "source": [
    "data = []\n",
    "with open(\"data/day_18\") as file:\n",
    "    for line in file:\n",
    "        data.append(literal_eval(line.strip()))"
   ]
  },
  {
   "cell_type": "code",
   "execution_count": 16,
   "id": "728afd82",
   "metadata": {},
   "outputs": [
    {
     "data": {
      "text/plain": [
       "[[[0, [3, 4]], [[3, 4], [0, 3]]], [[[9, 6], [1, 1]], [1, [8, 7]]]]"
      ]
     },
     "execution_count": 16,
     "metadata": {},
     "output_type": "execute_result"
    }
   ],
   "source": [
    "data[10]"
   ]
  },
  {
   "cell_type": "code",
   "execution_count": 17,
   "id": "d22ab268",
   "metadata": {},
   "outputs": [],
   "source": [
    "test_1 = [[[[4,3],4],4],[7,[[8,4],9]]]\n",
    "test_2 = [1,1]"
   ]
  },
  {
   "cell_type": "code",
   "execution_count": 33,
   "id": "4a7e8995",
   "metadata": {},
   "outputs": [],
   "source": [
    "def addition(x,y):\n",
    "    res = []\n",
    "    res.append(x)\n",
    "    res.append(y)\n",
    "    return res\n",
    "\n",
    "def reduction(num):\n",
    "    pass"
   ]
  },
  {
   "cell_type": "code",
   "execution_count": 35,
   "id": "7e7f3432",
   "metadata": {},
   "outputs": [],
   "source": [
    "res = addition(test_1, test_2)"
   ]
  },
  {
   "cell_type": "code",
   "execution_count": 36,
   "id": "20424f53",
   "metadata": {},
   "outputs": [
    {
     "data": {
      "text/plain": [
       "2"
      ]
     },
     "execution_count": 36,
     "metadata": {},
     "output_type": "execute_result"
    }
   ],
   "source": [
    "def test():\n",
    "    #index = 0\n",
    "    while len(num) > 0:\n",
    "        "
   ]
  },
  {
   "cell_type": "markdown",
   "id": "b4fc159e",
   "metadata": {},
   "source": [
    "# Test"
   ]
  },
  {
   "cell_type": "code",
   "execution_count": 48,
   "id": "92467112",
   "metadata": {},
   "outputs": [],
   "source": [
    "import re\n",
    "\n",
    "file = \"data/day_18\"\n",
    "finalTotal = 0\n",
    "input = []\n",
    "\n",
    "def parse():\n",
    "    with open(file) as f:\n",
    "        for line in f:\n",
    "            if False:\n",
    "                input.extend(re.split(\"\",line.strip()))\n",
    "            else:\n",
    "                input.append(line.strip())\n"
   ]
  },
  {
   "cell_type": "code",
   "execution_count": 49,
   "id": "e5edbb98",
   "metadata": {},
   "outputs": [],
   "source": [
    "def add(left, right):\n",
    "    newNum = f\"[{left},{right}]\"\n",
    "    return newNum\n",
    "\n",
    "def checkNested(number: str):\n",
    "    bracket = 0\n",
    "    for i in range(len(number)):\n",
    "        if number[i] == '[':\n",
    "            bracket += 1\n",
    "        elif number[i] == ']':\n",
    "            bracket -= 1\n",
    "        if bracket > 4:\n",
    "            return True\n",
    "    return False"
   ]
  },
  {
   "cell_type": "code",
   "execution_count": 50,
   "id": "075a297d",
   "metadata": {},
   "outputs": [],
   "source": [
    "def explode(number: str):\n",
    "    result = \"\"\n",
    "    bracket = 0\n",
    "    i = 0\n",
    "    while True:\n",
    "        if number[i] == '[':\n",
    "            bracket += 1\n",
    "        elif number[i] == ']':\n",
    "            bracket -= 1\n",
    "        if bracket > 4 and number[i+1] != '[': #Boom Boom!\n",
    "            #get both numbers\n",
    "            start = i\n",
    "            end = number.find(\"]\", start)\n",
    "            tokens = list(filter(None,re.split(\"\\[|,|\\]\",number[start:end+1])))\n",
    "\n",
    "            left = int(tokens[0])\n",
    "            right = int(tokens[1])\n",
    "\n",
    "            #add left leftwards if possible\n",
    "            anyNum = re.findall(\"[0-9]\",number[0:start])\n",
    "            if len(anyNum) > 0:\n",
    "                    #find first number, and add it\n",
    "                    searching = True\n",
    "                    LEDigit = -1\n",
    "                    LSDigit = -1\n",
    "                    loc = start\n",
    "                    while searching:\n",
    "                        loc -= 1\n",
    "                        if number[loc] >= '0' and number[loc] <= '9':\n",
    "                            if(LEDigit < 0):\n",
    "                                #found end of some number\n",
    "                                LEDigit = loc\n",
    "                            if number[loc - 1] < '0' or number[loc - 1] > '9':\n",
    "                                searching = False\n",
    "                                LSDigit = loc\n",
    "                    newLeft = int(number[LSDigit:LEDigit + 1]) + left\n",
    "                    result += number[0:LSDigit] + str(newLeft) + number[LEDigit + 1:start] + '0' #put current spot as 0 as well!\n",
    "            else:\n",
    "                result += number[0:start] + '0'\n",
    "                        \n",
    "            #add right rightwards if possible\n",
    "            anyNum = re.findall(\"[0-9]\",number[end+1:])\n",
    "            if len(anyNum) > 0:\n",
    "                    #find first number, and add it\n",
    "                    searching = True\n",
    "                    REDigit = -1\n",
    "                    RSDigit = -1\n",
    "                    loc = end + 1\n",
    "                    while searching:\n",
    "                        loc += 1\n",
    "                        if number[loc] >= '0' and number[loc] <= '9':\n",
    "                            if(RSDigit < 0):\n",
    "                                #found start of some number\n",
    "                                RSDigit = loc\n",
    "                            if number[loc + 1] < '0' or number[loc + 1] > '9':\n",
    "                                searching = False\n",
    "                                REDigit = loc\n",
    "                    newRight = int(number[RSDigit:REDigit + 1]) + right\n",
    "                    result += number[end+1:RSDigit] + str(newRight) + number[REDigit + 1:]\n",
    "            else:\n",
    "                result += number[end+1:]\n",
    "            break\n",
    "        i += 1\n",
    "    return result\n",
    "\n",
    "def split(number: str):\n",
    "    retVal = \"\"\n",
    "    tokens = list(filter(None,re.split(\"\\[|,|\\]\",number)))\n",
    "    value = \"\"\n",
    "    for i in range(len(tokens)):\n",
    "        if int(tokens[i]) >= 10:\n",
    "            value = tokens[i]\n",
    "            break\n",
    "    start = number.find(value)\n",
    "    end = start + len(value)\n",
    "    left = int(int(value) / 2)\n",
    "    right= int(float(value) / 2 + 0.5)\n",
    "    retVal = number[0:start] + \"[\" + str(left) + \",\"  + str(right) + \"]\" + number[end:]\n",
    "    return retVal"
   ]
  },
  {
   "cell_type": "code",
   "execution_count": 51,
   "id": "d623e0d8",
   "metadata": {},
   "outputs": [],
   "source": [
    "\n",
    "def checkSplits(number: str):\n",
    "    tokens = list(filter(None,re.split(\"\\[|,|\\]\",number)))\n",
    "    for i in range(len(tokens)):\n",
    "        if int(tokens[i]) >= 10:\n",
    "            return True\n",
    "    return False\n",
    "\n",
    "def reduce(number: str):\n",
    "    wip = number\n",
    "    anyChange = True\n",
    "    while anyChange:\n",
    "        anyChange = False\n",
    "        if checkNested(wip):\n",
    "            anyChange = True\n",
    "            wip = explode(wip)\n",
    "        elif checkSplits(wip):\n",
    "            anyChange = True\n",
    "            wip = split(wip)\n",
    "    return wip\n"
   ]
  },
  {
   "cell_type": "code",
   "execution_count": 52,
   "id": "b33461e9",
   "metadata": {},
   "outputs": [],
   "source": [
    "def calcMagnitude(number:str):\n",
    "    wip = number\n",
    "    result = \"\"\n",
    "    bracket = 0\n",
    "    i = 0\n",
    "    while True:\n",
    "        if wip.find(\"[\") < 0:\n",
    "            break\n",
    "        if wip[i+1] != '[':\n",
    "            #get both numbers\n",
    "            start = i\n",
    "            end = wip.find(\"]\", start)\n",
    "            \n",
    "            #check if any other numbers are in this range\n",
    "            temp = wip[start+1:end].find(\"[\")\n",
    "            if temp > -1:\n",
    "                i = temp + start + 1\n",
    "                continue\n",
    "\n",
    "            tokens = list(filter(None,re.split(\"\\[|,|\\]\",wip[start:end+1])))\n",
    "\n",
    "            left = int(tokens[0])\n",
    "            right = int(tokens[1])\n",
    "\n",
    "            newVal = left * 3 + right * 2\n",
    "            result += wip[0:start] + str(newVal) + wip[end+1:] #put current spot as 0 as well!\n",
    "            wip = result\n",
    "            result = \"\"\n",
    "            i = -1\n",
    "        i += 1\n",
    "    return int(wip)"
   ]
  },
  {
   "cell_type": "code",
   "execution_count": 53,
   "id": "ae53d4bd",
   "metadata": {},
   "outputs": [],
   "source": [
    "def part1():\n",
    "    val = input[0]\n",
    "    for i in range(1, len(input)):\n",
    "        val = add(val,input[i])\n",
    "        val = reduce(val)\n",
    "    print(calcMagnitude(val))"
   ]
  },
  {
   "cell_type": "code",
   "execution_count": 54,
   "id": "1e751cbd",
   "metadata": {},
   "outputs": [],
   "source": [
    "\n",
    "def part2():\n",
    "    maxMag = 0\n",
    "    for i in range(len(input)):\n",
    "        for j in range(len(input)):\n",
    "            if i == j:\n",
    "                continue\n",
    "            val = add(input[i],input[j])\n",
    "            val = reduce(val)\n",
    "            val = calcMagnitude(val)\n",
    "            if(maxMag < val):\n",
    "                maxMag = val\n",
    "    print(maxMag)"
   ]
  },
  {
   "cell_type": "code",
   "execution_count": 56,
   "id": "a686b149",
   "metadata": {},
   "outputs": [
    {
     "name": "stdout",
     "output_type": "stream",
     "text": [
      "3756\n",
      "4585\n"
     ]
    }
   ],
   "source": [
    "if __name__ == '__main__':\n",
    "    parse()\n",
    "    part1()"
   ]
  },
  {
   "cell_type": "code",
   "execution_count": 57,
   "id": "5cc2020c",
   "metadata": {},
   "outputs": [
    {
     "name": "stdout",
     "output_type": "stream",
     "text": [
      "4585\n"
     ]
    }
   ],
   "source": [
    "part2()"
   ]
  },
  {
   "cell_type": "code",
   "execution_count": null,
   "id": "55a64cc9",
   "metadata": {},
   "outputs": [],
   "source": []
  }
 ],
 "metadata": {
  "kernelspec": {
   "display_name": "Python 3 (ipykernel)",
   "language": "python",
   "name": "python3"
  },
  "language_info": {
   "codemirror_mode": {
    "name": "ipython",
    "version": 3
   },
   "file_extension": ".py",
   "mimetype": "text/x-python",
   "name": "python",
   "nbconvert_exporter": "python",
   "pygments_lexer": "ipython3",
   "version": "3.8.12"
  },
  "toc": {
   "base_numbering": 1,
   "nav_menu": {},
   "number_sections": true,
   "sideBar": true,
   "skip_h1_title": false,
   "title_cell": "Table of Contents",
   "title_sidebar": "Contents",
   "toc_cell": false,
   "toc_position": {},
   "toc_section_display": true,
   "toc_window_display": false
  }
 },
 "nbformat": 4,
 "nbformat_minor": 5
}
