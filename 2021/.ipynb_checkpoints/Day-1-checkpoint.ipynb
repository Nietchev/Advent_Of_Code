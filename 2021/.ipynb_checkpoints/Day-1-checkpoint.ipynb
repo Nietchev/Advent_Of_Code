{
 "cells": [
  {
   "cell_type": "markdown",
   "id": "5b6c1e9a",
   "metadata": {},
   "source": [
    "# Day-1"
   ]
  },
  {
   "cell_type": "markdown",
   "id": "0a1ca99d",
   "metadata": {},
   "source": [
    "Part one"
   ]
  },
  {
   "cell_type": "code",
   "execution_count": 11,
   "id": "dc8fe81a",
   "metadata": {},
   "outputs": [
    {
     "data": {
      "text/plain": [
       "1791"
      ]
     },
     "execution_count": 11,
     "metadata": {},
     "output_type": "execute_result"
    }
   ],
   "source": [
    "count = 0\n",
    "temp = [0]\n",
    "with open('data/day-1') as f:\n",
    "    for line in f:\n",
    "        temp.append(int(line))\n",
    "        if int(line) > temp[-2]:\n",
    "            count += 1\n",
    "count -=1\n",
    "count"
   ]
  },
  {
   "cell_type": "code",
   "execution_count": 14,
   "id": "212f82de",
   "metadata": {},
   "outputs": [],
   "source": [
    "count = 0\n",
    "depth = []\n",
    "with open('data/day-1') as f:\n",
    "    for line in f:\n",
    "        depth.append(int(line))"
   ]
  },
  {
   "cell_type": "code",
   "execution_count": 24,
   "id": "ea933144",
   "metadata": {},
   "outputs": [],
   "source": [
    "slide = []\n",
    "for k in range(len(depth)-2):\n",
    "    slide.append(depth[k] + depth[k+1] + depth[k+2])"
   ]
  },
  {
   "cell_type": "code",
   "execution_count": 30,
   "id": "982ab903",
   "metadata": {},
   "outputs": [
    {
     "data": {
      "text/plain": [
       "1822"
      ]
     },
     "execution_count": 30,
     "metadata": {},
     "output_type": "execute_result"
    }
   ],
   "source": [
    "count = 0\n",
    "temp = [0]\n",
    "for line in slide:\n",
    "    temp.append(int(line))\n",
    "    if int(line) > temp[-2]:\n",
    "        count += 1\n",
    "count -= 1 \n",
    "count"
   ]
  },
  {
   "cell_type": "code",
   "execution_count": null,
   "id": "8e18210a",
   "metadata": {},
   "outputs": [],
   "source": []
  }
 ],
 "metadata": {
  "kernelspec": {
   "display_name": "Python 3 (ipykernel)",
   "language": "python",
   "name": "python3"
  },
  "language_info": {
   "codemirror_mode": {
    "name": "ipython",
    "version": 3
   },
   "file_extension": ".py",
   "mimetype": "text/x-python",
   "name": "python",
   "nbconvert_exporter": "python",
   "pygments_lexer": "ipython3",
   "version": "3.8.12"
  }
 },
 "nbformat": 4,
 "nbformat_minor": 5
}
