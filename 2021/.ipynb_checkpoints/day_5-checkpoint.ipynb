{
 "cells": [
  {
   "cell_type": "markdown",
   "id": "3a0889d5",
   "metadata": {},
   "source": [
    "# Day 5"
   ]
  },
  {
   "cell_type": "code",
   "execution_count": 37,
   "id": "2589faff",
   "metadata": {},
   "outputs": [],
   "source": [
    "import numpy as np"
   ]
  },
  {
   "cell_type": "code",
   "execution_count": 145,
   "id": "19333f3c",
   "metadata": {},
   "outputs": [],
   "source": [
    "path_test='data/day_5_test'"
   ]
  },
  {
   "cell_type": "code",
   "execution_count": 181,
   "id": "82fc9ac5",
   "metadata": {},
   "outputs": [],
   "source": [
    "def load_data(path='data/day_5'):\n",
    "    start = []\n",
    "    finish = []\n",
    "    x = []\n",
    "    with open(path) as f:\n",
    "        for line in f:\n",
    "            v1,v2 = line.split(' -> ')\n",
    "            start.append(eval(v1.strip()))\n",
    "            finish.append(eval(v2.strip()))\n",
    "            \n",
    "    return start, finish"
   ]
  },
  {
   "cell_type": "code",
   "execution_count": 198,
   "id": "cdfffdfb",
   "metadata": {},
   "outputs": [],
   "source": [
    "def count_dup(start,finish, x=1000, y=1000):\n",
    "    dup = np.zeros((x,y),dtype=int)\n",
    "    for st , fn in zip(start,finish):\n",
    "        if st[0] == fn[0]:\n",
    "            a = min(st[1],fn[1])\n",
    "            b = max(st[1],fn[1]) \n",
    "            for i in range(a,b+1):\n",
    "                dup[st[0]][i] += 1\n",
    "        if st[1] == fn[1]:\n",
    "            a = min(st[0],fn[0])\n",
    "            b = max(st[0],fn[0]) \n",
    "            for i in range(a,b+1):\n",
    "                dup[i][st[1]] += 1\n",
    "    return dup"
   ]
  },
  {
   "cell_type": "code",
   "execution_count": 199,
   "id": "e9e71ea9",
   "metadata": {},
   "outputs": [],
   "source": [
    "start, finish = load_data(path_test)"
   ]
  },
  {
   "cell_type": "code",
   "execution_count": 200,
   "id": "5daaf99b",
   "metadata": {},
   "outputs": [
    {
     "data": {
      "text/plain": [
       "array([[0, 0, 0, 0, 0, 0, 0, 0, 0, 2],\n",
       "       [0, 0, 0, 0, 1, 0, 0, 0, 0, 2],\n",
       "       [0, 1, 1, 0, 1, 0, 0, 0, 0, 2],\n",
       "       [0, 0, 0, 0, 2, 0, 0, 0, 0, 1],\n",
       "       [0, 0, 0, 0, 1, 0, 0, 0, 0, 1],\n",
       "       [0, 0, 0, 0, 1, 0, 0, 0, 0, 1],\n",
       "       [0, 0, 0, 0, 1, 0, 0, 0, 0, 0],\n",
       "       [1, 1, 1, 1, 2, 0, 0, 0, 0, 0],\n",
       "       [0, 0, 0, 0, 1, 0, 0, 0, 0, 0],\n",
       "       [0, 0, 0, 0, 1, 0, 0, 0, 0, 0]])"
      ]
     },
     "execution_count": 200,
     "metadata": {},
     "output_type": "execute_result"
    }
   ],
   "source": [
    "count_dup(start,finish,10,10)\n",
    "#print(np.count_nonzero(a > 1))"
   ]
  },
  {
   "cell_type": "code",
   "execution_count": 250,
   "id": "d12f8bc0",
   "metadata": {},
   "outputs": [],
   "source": [
    "def create_map(start, finish, x=1000, y=1000):\n",
    "    dup = count_dup(start,finish,x,y)\n",
    "    for st , fn in zip(start,finish):\n",
    "       \n",
    "        if st[0] != fn[0] and st[1] != fn[1]:\n",
    "            step = 0\n",
    "            if st[0] < fn[0]:\n",
    "                for i in range(st[0],fn[0]+1):\n",
    "                    if st[1] < fn[1]:\n",
    "                        dup[i][st[1]+step] += 1\n",
    "                        step += 1                \n",
    "\n",
    "                    if st[1] > fn[1]:\n",
    "                        dup[i][st[1]-step] += 1\n",
    "                        step += 1\n",
    "                        \n",
    "            if st[0] > fn[0]:\n",
    "                for i in range(fn[0],st[0]+1):\n",
    "                    if st[1] < fn[1]:\n",
    "                        dup[i][fn[1]-step] += 1\n",
    "                        step += 1                \n",
    "\n",
    "                    if st[1] > fn[1]:\n",
    "                        dup[i][fn[1]+step] += 1\n",
    "                        step += 1       \n",
    "                    \n",
    "    return dup.T"
   ]
  },
  {
   "cell_type": "code",
   "execution_count": 252,
   "id": "805c5036",
   "metadata": {},
   "outputs": [
    {
     "name": "stdout",
     "output_type": "stream",
     "text": [
      "12\n"
     ]
    }
   ],
   "source": [
    "b = create_map(start, finish,x=10,y=10)\n",
    "print(np.count_nonzero(b > 1))"
   ]
  },
  {
   "cell_type": "code",
   "execution_count": 253,
   "id": "fdeb5804",
   "metadata": {},
   "outputs": [],
   "source": [
    "start, finish = load_data()"
   ]
  },
  {
   "cell_type": "code",
   "execution_count": 254,
   "id": "cca6d3cb",
   "metadata": {},
   "outputs": [
    {
     "name": "stdout",
     "output_type": "stream",
     "text": [
      "19374\n"
     ]
    }
   ],
   "source": [
    "b = create_map(start, finish)\n",
    "print(np.count_nonzero(b > 1))"
   ]
  },
  {
   "cell_type": "code",
   "execution_count": null,
   "id": "f3037baf",
   "metadata": {},
   "outputs": [],
   "source": []
  }
 ],
 "metadata": {
  "kernelspec": {
   "display_name": "Python 3 (ipykernel)",
   "language": "python",
   "name": "python3"
  },
  "language_info": {
   "codemirror_mode": {
    "name": "ipython",
    "version": 3
   },
   "file_extension": ".py",
   "mimetype": "text/x-python",
   "name": "python",
   "nbconvert_exporter": "python",
   "pygments_lexer": "ipython3",
   "version": "3.8.12"
  },
  "toc": {
   "base_numbering": 1,
   "nav_menu": {},
   "number_sections": true,
   "sideBar": true,
   "skip_h1_title": false,
   "title_cell": "Table of Contents",
   "title_sidebar": "Contents",
   "toc_cell": false,
   "toc_position": {},
   "toc_section_display": true,
   "toc_window_display": false
  }
 },
 "nbformat": 4,
 "nbformat_minor": 5
}
