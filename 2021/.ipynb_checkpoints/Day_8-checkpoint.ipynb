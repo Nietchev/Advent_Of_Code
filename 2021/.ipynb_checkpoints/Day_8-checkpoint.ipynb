{
 "cells": [
  {
   "cell_type": "markdown",
   "id": "c538e695",
   "metadata": {},
   "source": [
    "# Day 8"
   ]
  },
  {
   "cell_type": "code",
   "execution_count": 1,
   "id": "345bbc5e",
   "metadata": {},
   "outputs": [],
   "source": [
    "input_test = \"acedgfb cdfbe gcdfa fbcad dab cefabd cdfgeb eafb cagedb ab | cdfeb fcadb cdfeb cdbaf\""
   ]
  },
  {
   "cell_type": "code",
   "execution_count": 11,
   "id": "872ca7a4",
   "metadata": {},
   "outputs": [
    {
     "ename": "SyntaxError",
     "evalue": "EOL while scanning string literal (3220773062.py, line 1)",
     "output_type": "error",
     "traceback": [
      "\u001b[0;36m  File \u001b[0;32m\"/tmp/ipykernel_3057/3220773062.py\"\u001b[0;36m, line \u001b[0;32m1\u001b[0m\n\u001b[0;31m    input_full = \"dcga cadgbfe gecba cbfde eda cdbea gbadfe fegcba bedgca da | bgefdac bdace ad agcd\u001b[0m\n\u001b[0m                                                                                                    ^\u001b[0m\n\u001b[0;31mSyntaxError\u001b[0m\u001b[0;31m:\u001b[0m EOL while scanning string literal\n"
     ]
    }
   ],
   "source": [
    "input_full = \"\""
   ]
  },
  {
   "cell_type": "code",
   "execution_count": 13,
   "id": "085112d2",
   "metadata": {},
   "outputs": [
    {
     "name": "stdout",
     "output_type": "stream",
     "text": [
      "479\n",
      "1041746\n"
     ]
    }
   ],
   "source": [
    "from itertools import permutations\n",
    "\n",
    "with open(\"data/day_8\") as f:\n",
    "    data = f.readlines()\n",
    "\n",
    "d = {\n",
    "    \"abcefg\": 0,\n",
    "    \"cf\": 1,\n",
    "    \"acdeg\": 2,\n",
    "    \"acdfg\": 3,\n",
    "    \"bcdf\": 4,\n",
    "    \"abdfg\": 5,\n",
    "    \"abdefg\": 6,\n",
    "    \"acf\": 7,\n",
    "    \"abcdefg\": 8,\n",
    "    \"abcdfg\": 9,\n",
    "}\n",
    "\n",
    "part_1 = 0\n",
    "part_2 = 0\n",
    "for line in data:\n",
    "    a, b = line.split(\" | \")\n",
    "    a = a.split()\n",
    "    b = b.split()\n",
    "    part_1 += sum(len(code) in {2, 3, 4, 7} for code in b)\n",
    "    for permutation in permutations(\"abcdefg\"):\n",
    "        to = str.maketrans(\"abcdefg\", \"\".join(permutation))\n",
    "        a_ = [\"\".join(sorted(code.translate(to))) for code in a]\n",
    "        b_ = [\"\".join(sorted(code.translate(to))) for code in b]\n",
    "        if all(code in d for code in a_):\n",
    "            part_2 += int(\"\".join(str(d[code]) for code in b_))\n",
    "            break\n",
    "\n",
    "print(part_1)\n",
    "print(part_2)"
   ]
  },
  {
   "cell_type": "code",
   "execution_count": null,
   "id": "482d40bf",
   "metadata": {},
   "outputs": [],
   "source": []
  }
 ],
 "metadata": {
  "kernelspec": {
   "display_name": "Python 3 (ipykernel)",
   "language": "python",
   "name": "python3"
  },
  "language_info": {
   "codemirror_mode": {
    "name": "ipython",
    "version": 3
   },
   "file_extension": ".py",
   "mimetype": "text/x-python",
   "name": "python",
   "nbconvert_exporter": "python",
   "pygments_lexer": "ipython3",
   "version": "3.8.12"
  },
  "toc": {
   "base_numbering": 1,
   "nav_menu": {},
   "number_sections": true,
   "sideBar": true,
   "skip_h1_title": false,
   "title_cell": "Table of Contents",
   "title_sidebar": "Contents",
   "toc_cell": false,
   "toc_position": {},
   "toc_section_display": true,
   "toc_window_display": false
  }
 },
 "nbformat": 4,
 "nbformat_minor": 5
}
