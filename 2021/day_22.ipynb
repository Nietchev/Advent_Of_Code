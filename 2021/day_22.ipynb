{
 "cells": [
  {
   "cell_type": "code",
   "execution_count": 8,
   "id": "b6b0e673",
   "metadata": {},
   "outputs": [
    {
     "name": "stdout",
     "output_type": "stream",
     "text": [
      "590467\n"
     ]
    }
   ],
   "source": [
    "import re\n",
    "import sys\n",
    "\n",
    "steps = [\n",
    "    (line.split(' ')[0], tuple(map(int, re.findall(r'-?\\d+', line))))\n",
    "    for line in open(f'data/day_22', 'r')\n",
    "]\n",
    "\n",
    "cubes = set()\n",
    "\n",
    "for step_type, area in steps:\n",
    "    for x in range(max(area[0], -50), min(area[1], 50) + 1):\n",
    "        for y in range(max(area[2], -50), min(area[3], 50) + 1):\n",
    "            for z in range(max(area[4], -50), min(area[5], 50) + 1):\n",
    "                (cubes.add if step_type == 'on' else cubes.discard)((x, y, z))\n",
    "\n",
    "print(len(cubes))"
   ]
  },
  {
   "cell_type": "code",
   "execution_count": 9,
   "id": "5d5a5744",
   "metadata": {},
   "outputs": [
    {
     "name": "stdout",
     "output_type": "stream",
     "text": [
      "1225064738333321\n"
     ]
    }
   ],
   "source": [
    "from math import prod\n",
    "from collections import Counter\n",
    "\n",
    "def intersects(a, b):\n",
    "    return all(a[i] <= b[i + 1] and a[i + 1] >= b[i] for i in range(0, 5, 2))\n",
    "\n",
    "def get_intersection_area(a, b):\n",
    "    return tuple((min if i & 1 else max)(a[i], b[i]) for i in range(6))\n",
    "\n",
    "def get_area(area):\n",
    "    return prod(area[i + 1] - area[i] + 1 for i in range(0, 5, 2))\n",
    "\n",
    "steps = [\n",
    "    (line.split(' ')[0], tuple(map(int, re.findall(r'-?\\d+', line))))\n",
    "    for line in open(f'data/day_22', 'r')\n",
    "]\n",
    "\n",
    "areas = Counter()\n",
    "\n",
    "for step_type, new_area in steps:\n",
    "    updated_areas = Counter()\n",
    "\n",
    "    if (step_type == 'on'):\n",
    "        updated_areas[new_area] += 1\n",
    "\n",
    "    for area, value in areas.items():\n",
    "        if (intersects(new_area, area)):\n",
    "            intersection_area = get_intersection_area(new_area, area)\n",
    "            updated_areas[intersection_area] -= value\n",
    "\n",
    "    areas.update(updated_areas)\n",
    "\n",
    "print(sum(get_area(area) * value for area, value in areas.items()))"
   ]
  },
  {
   "cell_type": "code",
   "execution_count": null,
   "id": "5d6af9ff",
   "metadata": {},
   "outputs": [],
   "source": []
  }
 ],
 "metadata": {
  "kernelspec": {
   "display_name": "Python 3 (ipykernel)",
   "language": "python",
   "name": "python3"
  },
  "language_info": {
   "codemirror_mode": {
    "name": "ipython",
    "version": 3
   },
   "file_extension": ".py",
   "mimetype": "text/x-python",
   "name": "python",
   "nbconvert_exporter": "python",
   "pygments_lexer": "ipython3",
   "version": "3.8.12"
  },
  "toc": {
   "base_numbering": 1,
   "nav_menu": {},
   "number_sections": true,
   "sideBar": true,
   "skip_h1_title": false,
   "title_cell": "Table of Contents",
   "title_sidebar": "Contents",
   "toc_cell": false,
   "toc_position": {},
   "toc_section_display": true,
   "toc_window_display": false
  }
 },
 "nbformat": 4,
 "nbformat_minor": 5
}
