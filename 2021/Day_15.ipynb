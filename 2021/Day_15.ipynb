{
 "cells": [
  {
   "cell_type": "markdown",
   "id": "6b4c9537",
   "metadata": {},
   "source": [
    "# Day_15"
   ]
  },
  {
   "cell_type": "code",
   "execution_count": 15,
   "id": "754f5294",
   "metadata": {},
   "outputs": [],
   "source": [
    "import numpy as np"
   ]
  },
  {
   "cell_type": "code",
   "execution_count": 81,
   "id": "ec6f255e",
   "metadata": {},
   "outputs": [],
   "source": [
    "path_test = 'data/day_15_test'\n",
    "path = 'data/day_15'"
   ]
  },
  {
   "cell_type": "code",
   "execution_count": 82,
   "id": "845d659c",
   "metadata": {},
   "outputs": [],
   "source": [
    "def  loading(path):\n",
    "    with open(path) as file:\n",
    "        grid = [[int(i) for i in line.strip()] for line in file]\n",
    "    return grid"
   ]
  },
  {
   "cell_type": "code",
   "execution_count": 84,
   "id": "13ce28c0",
   "metadata": {},
   "outputs": [],
   "source": [
    "grid =loading(path)"
   ]
  },
  {
   "cell_type": "code",
   "execution_count": 75,
   "id": "1c8e071d",
   "metadata": {},
   "outputs": [],
   "source": [
    "walls = {(x,y): int(h) \n",
    "            for y,l in enumerate(open(path_test))\n",
    "            for x,h in enumerate(l.strip())}"
   ]
  },
  {
   "cell_type": "code",
   "execution_count": 94,
   "id": "e809c1fa",
   "metadata": {},
   "outputs": [],
   "source": [
    "from collections import defaultdict\n",
    "from queue import PriorityQueue"
   ]
  },
  {
   "cell_type": "code",
   "execution_count": 97,
   "id": "b45d5b0e",
   "metadata": {},
   "outputs": [
    {
     "name": "stdout",
     "output_type": "stream",
     "text": [
      "748\n",
      "3045\n"
     ]
    }
   ],
   "source": [
    "n = len(grid)\n",
    "dirs = [(0, 1), (0, -1), (1, 0), (-1, 0)]\n",
    "\n",
    "def shortest(grid, start):\n",
    "    n = len(grid)\n",
    "    end = n - 1, n - 1\n",
    "    q = PriorityQueue()\n",
    "    q.put((0, start))\n",
    "    dists = defaultdict(lambda :float('inf'))\n",
    "    dists[start] = 0\n",
    "    \n",
    "    while not q.empty():\n",
    "        d, node = q.get()\n",
    "        if node == end: return d\n",
    "        if dists[node] < d: continue\n",
    "        \n",
    "        i, j = node\n",
    "        for di, dj in dirs:\n",
    "            ni, nj = i + di, j + dj\n",
    "            if ni in (-1, n) or nj in (-1, n): continue\n",
    "            new_d = d + grid[ni][nj]\n",
    "            if dists[(ni, nj)] > new_d:\n",
    "                dists[(ni, nj)] = new_d\n",
    "                q.put((new_d, (ni ,nj)))\n",
    "                \n",
    "    return None\n",
    "\n",
    "def repeat_grid(grid, k = 5):\n",
    "    g = np.array(grid) - 1\n",
    "    grid = np.concatenate([(g + i)%9 for i in range(k)], axis = 1)\n",
    "    grid = np.concatenate([(grid + i)%9 for i in range(k)], axis = 0)\n",
    "    grid += 1\n",
    "    return grid\n",
    "        \n",
    "print(shortest(grid, (0,0)))\n",
    "\n",
    "print(shortest(repeat_grid(grid), (0, 0)))"
   ]
  },
  {
   "cell_type": "code",
   "execution_count": null,
   "id": "92a23ed0",
   "metadata": {},
   "outputs": [],
   "source": []
  }
 ],
 "metadata": {
  "kernelspec": {
   "display_name": "Python 3 (ipykernel)",
   "language": "python",
   "name": "python3"
  },
  "language_info": {
   "codemirror_mode": {
    "name": "ipython",
    "version": 3
   },
   "file_extension": ".py",
   "mimetype": "text/x-python",
   "name": "python",
   "nbconvert_exporter": "python",
   "pygments_lexer": "ipython3",
   "version": "3.8.12"
  },
  "toc": {
   "base_numbering": 1,
   "nav_menu": {},
   "number_sections": true,
   "sideBar": true,
   "skip_h1_title": false,
   "title_cell": "Table of Contents",
   "title_sidebar": "Contents",
   "toc_cell": false,
   "toc_position": {},
   "toc_section_display": true,
   "toc_window_display": false
  }
 },
 "nbformat": 4,
 "nbformat_minor": 5
}
