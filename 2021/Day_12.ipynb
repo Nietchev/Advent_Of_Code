{
 "cells": [
  {
   "cell_type": "markdown",
   "id": "70155b7a",
   "metadata": {},
   "source": [
    "# Day_12"
   ]
  },
  {
   "cell_type": "code",
   "execution_count": 2,
   "id": "6c5649cc",
   "metadata": {},
   "outputs": [],
   "source": [
    "pairs = []\n",
    "with open('data/day_12') as f:\n",
    "    for line in f:\n",
    "        pairs.append(line.strip())"
   ]
  },
  {
   "cell_type": "code",
   "execution_count": 32,
   "id": "b217a8a0",
   "metadata": {},
   "outputs": [],
   "source": [
    "pairs_test = []\n",
    "with open('data/day_12_test') as f:\n",
    "    for line in f:\n",
    "        key,val = line.strip().split('-')\n",
    "        pairs_test.append((key,val))"
   ]
  },
  {
   "cell_type": "code",
   "execution_count": 34,
   "id": "9a42043c",
   "metadata": {},
   "outputs": [],
   "source": [
    "def get_nodes(pairs : list) -> list:\n",
    "    nodes = []\n",
    "    for pair in pairs:\n",
    "        nodes.extend(pair)\n",
    "    return list(set(nodes))"
   ]
  },
  {
   "cell_type": "code",
   "execution_count": 95,
   "id": "6032335b",
   "metadata": {},
   "outputs": [],
   "source": [
    "def find_neigh(pairs: list):\n",
    "    nodes = get_nodes(pairs)\n",
    "    neigh = {}\n",
    "    for node in nodes:\n",
    "        neigh[node] = []\n",
    "    for one, two in pairs:\n",
    "        neigh[one].append(two)\n",
    "        neigh[two].append(one)\n",
    "    return neigh"
   ]
  },
  {
   "cell_type": "code",
   "execution_count": 97,
   "id": "0fa97061",
   "metadata": {},
   "outputs": [],
   "source": [
    "neigh = find_neigh(pairs_test)"
   ]
  },
  {
   "cell_type": "code",
   "execution_count": 106,
   "id": "1c0c0de2",
   "metadata": {},
   "outputs": [
    {
     "data": {
      "text/plain": [
       "{'RW': ['he', 'pj', 'zg', 'start'],\n",
       " 'sl': ['zg'],\n",
       " 'DX': ['he', 'start', 'pj', 'fs'],\n",
       " 'end': ['fs', 'zg'],\n",
       " 'fs': ['end', 'he', 'DX', 'pj'],\n",
       " 'zg': ['end', 'sl', 'pj', 'RW', 'he'],\n",
       " 'pj': ['DX', 'zg', 'he', 'RW', 'start', 'fs'],\n",
       " 'WI': ['he'],\n",
       " 'he': ['DX', 'fs', 'pj', 'RW', 'WI', 'zg'],\n",
       " 'start': ['DX', 'pj', 'RW']}"
      ]
     },
     "execution_count": 106,
     "metadata": {},
     "output_type": "execute_result"
    }
   ],
   "source": [
    "neigh"
   ]
  },
  {
   "cell_type": "code",
   "execution_count": 110,
   "id": "cd629f66",
   "metadata": {},
   "outputs": [],
   "source": [
    "def find_path(graph, start, end, path=[]):\n",
    "    path = path + [start]\n",
    "    if start == end:\n",
    "        return path\n",
    "    for node in graph[start]:\n",
    "        if node not in path:\n",
    "            newpath = find_path(graph, node, end, path)\n",
    "            if newpath: return newpath\n",
    "    return None"
   ]
  },
  {
   "cell_type": "code",
   "execution_count": 111,
   "id": "e071b5f4",
   "metadata": {},
   "outputs": [
    {
     "data": {
      "text/plain": [
       "['start', 'DX', 'he', 'fs', 'end']"
      ]
     },
     "execution_count": 111,
     "metadata": {},
     "output_type": "execute_result"
    }
   ],
   "source": [
    "find_path(neigh, 'start', 'end')"
   ]
  },
  {
   "cell_type": "code",
   "execution_count": 129,
   "id": "407af72e",
   "metadata": {},
   "outputs": [],
   "source": [
    "def find_all_paths(graph, start = 'start', end = 'end', path=[]):\n",
    "    path = path + [start]\n",
    "    if start == end:\n",
    "        return [path]\n",
    "    paths = []\n",
    "    for node in graph[start]:\n",
    "        if node not in path:\n",
    "            newpaths = find_all_paths(graph, node, end, path)\n",
    "            for newpath in newpaths:\n",
    "                paths.append(newpath)\n",
    "    return paths"
   ]
  },
  {
   "cell_type": "code",
   "execution_count": 133,
   "id": "2a93901b",
   "metadata": {},
   "outputs": [],
   "source": [
    "#find_all_paths(neigh)"
   ]
  },
  {
   "cell_type": "code",
   "execution_count": 132,
   "id": "dbc87671",
   "metadata": {},
   "outputs": [
    {
     "name": "stdout",
     "output_type": "stream",
     "text": [
      "3856\n",
      "116692\n"
     ]
    }
   ],
   "source": [
    "from collections import defaultdict\n",
    "\n",
    "def find_routes(current, path, p2=False):\n",
    "    if current == 'end':\n",
    "        routes.add(tuple(path))\n",
    "        return\n",
    "    for x in data[current]:\n",
    "        if (x == 'start' or x.islower() and x in path and not p2) \\\n",
    "        or (x == 'start' or x.islower() and x in path and any(path.count(y) > 1 for y in path if y.islower()) and p2):\n",
    "            continue\n",
    "        find_routes(x, path + [x], p2)\n",
    "    return len(routes)\n",
    "\n",
    "with open(\"data/day_12\", 'r') as file:\n",
    "    data = defaultdict(list)\n",
    "    for x in file.read().splitlines():\n",
    "        a,b = x.split('-')\n",
    "        data[a] += [b]\n",
    "        data[b] += [a]\n",
    "    routes = set()\n",
    "    print(find_routes('start', ['start']))\n",
    "    print(find_routes('start', ['start'], True))"
   ]
  },
  {
   "cell_type": "code",
   "execution_count": null,
   "id": "5f0954c8",
   "metadata": {},
   "outputs": [],
   "source": []
  },
  {
   "cell_type": "code",
   "execution_count": null,
   "id": "5726bf81",
   "metadata": {},
   "outputs": [],
   "source": []
  },
  {
   "cell_type": "code",
   "execution_count": null,
   "id": "00d825a3",
   "metadata": {},
   "outputs": [],
   "source": []
  }
 ],
 "metadata": {
  "kernelspec": {
   "display_name": "Python 3 (ipykernel)",
   "language": "python",
   "name": "python3"
  },
  "language_info": {
   "codemirror_mode": {
    "name": "ipython",
    "version": 3
   },
   "file_extension": ".py",
   "mimetype": "text/x-python",
   "name": "python",
   "nbconvert_exporter": "python",
   "pygments_lexer": "ipython3",
   "version": "3.8.12"
  },
  "toc": {
   "base_numbering": 1,
   "nav_menu": {},
   "number_sections": true,
   "sideBar": true,
   "skip_h1_title": false,
   "title_cell": "Table of Contents",
   "title_sidebar": "Contents",
   "toc_cell": false,
   "toc_position": {},
   "toc_section_display": true,
   "toc_window_display": false
  }
 },
 "nbformat": 4,
 "nbformat_minor": 5
}
