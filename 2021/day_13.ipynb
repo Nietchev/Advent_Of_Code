{
 "cells": [
  {
   "cell_type": "markdown",
   "id": "6e809370",
   "metadata": {},
   "source": [
    "# Day_13"
   ]
  },
  {
   "cell_type": "markdown",
   "id": "2c49a136",
   "metadata": {},
   "source": [
    "## Imports"
   ]
  },
  {
   "cell_type": "code",
   "execution_count": 32,
   "id": "fec4c1b5",
   "metadata": {},
   "outputs": [],
   "source": [
    "import numpy as np"
   ]
  },
  {
   "cell_type": "code",
   "execution_count": 49,
   "id": "f5f07a08",
   "metadata": {},
   "outputs": [],
   "source": [
    "data = np.genfromtxt('data/day_13',delimiter=',',dtype=int)"
   ]
  },
  {
   "cell_type": "code",
   "execution_count": 61,
   "id": "57009f80",
   "metadata": {},
   "outputs": [],
   "source": [
    "inst = []\n",
    "with open('data/day_13_instruction') as file:\n",
    "    for line in file:\n",
    "        inst.append(line.strip('fold along').strip().split('='))"
   ]
  },
  {
   "cell_type": "markdown",
   "id": "556ee47e",
   "metadata": {},
   "source": [
    "## part 1"
   ]
  },
  {
   "cell_type": "code",
   "execution_count": 16,
   "id": "07fe4f78",
   "metadata": {},
   "outputs": [],
   "source": [
    "day_13_test = [(6,10),(0,14),(9,10),(0,3),(10,4),(4,11),(6,0),(6,12),(4,1),(0,13),(10,12),(3,4), \n",
    "               (3,0),(8,4), (1,10), (2,14), (8,10),(9,0)]"
   ]
  },
  {
   "cell_type": "code",
   "execution_count": 17,
   "id": "e218d91d",
   "metadata": {},
   "outputs": [],
   "source": [
    "day_13_test_ins=[\"fold along y=7\",\"fold along x=5\"]"
   ]
  },
  {
   "cell_type": "code",
   "execution_count": 72,
   "id": "b2a9485e",
   "metadata": {},
   "outputs": [],
   "source": [
    "def fold_y(data,y=None):\n",
    "    folded = []\n",
    "    for p,q in data:\n",
    "        if q > y:\n",
    "            folded.append((p,y-(q-y)))\n",
    "        else:\n",
    "            folded.append((p,q))\n",
    "    return set(folded)\n",
    "    \n",
    "def fold_x(data,x=None):\n",
    "    folded = []\n",
    "    for p,q in data:\n",
    "        if p > x:\n",
    "            folded.append((x-(p-x),q))\n",
    "        else:\n",
    "            folded.append((p,q))\n",
    "    return set(folded)"
   ]
  },
  {
   "cell_type": "code",
   "execution_count": 73,
   "id": "cb61a3e0",
   "metadata": {},
   "outputs": [
    {
     "data": {
      "text/plain": [
       "755"
      ]
     },
     "execution_count": 73,
     "metadata": {},
     "output_type": "execute_result"
    }
   ],
   "source": [
    "len(fold(data, x=655))"
   ]
  },
  {
   "cell_type": "markdown",
   "id": "dabec2d2",
   "metadata": {},
   "source": [
    "## Part 2"
   ]
  },
  {
   "cell_type": "code",
   "execution_count": 74,
   "id": "c9261050",
   "metadata": {},
   "outputs": [],
   "source": [
    "def full_fold(data,inst):\n",
    "    res = data\n",
    "    for axis, num in inst:\n",
    "        if axis == 'x':\n",
    "            res = fold_x(res,int(num))\n",
    "        elif axis == 'y':\n",
    "            res = fold_y(res,int(num))\n",
    "    return res"
   ]
  },
  {
   "cell_type": "code",
   "execution_count": 79,
   "id": "df9c9396",
   "metadata": {},
   "outputs": [],
   "source": [
    "result = list(full_fold(data,inst));"
   ]
  },
  {
   "cell_type": "code",
   "execution_count": 85,
   "id": "8b3a5423",
   "metadata": {},
   "outputs": [
    {
     "name": "stdout",
     "output_type": "stream",
     "text": [
      "███  █    █  █   ██ ███  ███   ██   ██  \n",
      "█  █ █    █ █     █ █  █ █  █ █  █ █  █ \n",
      "███  █    ██      █ █  █ ███  █  █ █    \n",
      "█  █ █    █ █     █ ███  █  █ ████ █ ██ \n",
      "█  █ █    █ █  █  █ █ █  █  █ █  █ █  █ \n",
      "███  ████ █  █  ██  █  █ ███  █  █  ███ \n"
     ]
    }
   ],
   "source": [
    "print('\\n'.join(''.join('█' if (x, y) in result else ' ' for x in range(40)) for y in range(6)))"
   ]
  },
  {
   "cell_type": "code",
   "execution_count": null,
   "id": "31f59372",
   "metadata": {},
   "outputs": [],
   "source": []
  }
 ],
 "metadata": {
  "kernelspec": {
   "display_name": "Python 3 (ipykernel)",
   "language": "python",
   "name": "python3"
  },
  "language_info": {
   "codemirror_mode": {
    "name": "ipython",
    "version": 3
   },
   "file_extension": ".py",
   "mimetype": "text/x-python",
   "name": "python",
   "nbconvert_exporter": "python",
   "pygments_lexer": "ipython3",
   "version": "3.8.12"
  },
  "toc": {
   "base_numbering": 1,
   "nav_menu": {},
   "number_sections": true,
   "sideBar": true,
   "skip_h1_title": false,
   "title_cell": "Table of Contents",
   "title_sidebar": "Contents",
   "toc_cell": false,
   "toc_position": {},
   "toc_section_display": true,
   "toc_window_display": false
  }
 },
 "nbformat": 4,
 "nbformat_minor": 5
}
