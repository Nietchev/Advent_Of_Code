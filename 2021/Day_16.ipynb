{
 "cells": [
  {
   "cell_type": "code",
   "execution_count": 1,
   "id": "e33146d9",
   "metadata": {},
   "outputs": [
    {
     "name": "stdout",
     "output_type": "stream",
     "text": [
      "1510977819698\n"
     ]
    }
   ],
   "source": [
    "def product(values):\n",
    "    prod = 1\n",
    "    for value in values:\n",
    "        prod *= value\n",
    "    return prod\n",
    "\n",
    "def gt(values):\n",
    "    return int(values[0] > values[1])\n",
    "\n",
    "def lt(values):\n",
    "    return int(values[0] < values[1])\n",
    "\n",
    "def equals(values):\n",
    "    return int(values[0] == values[1])\n",
    "\n",
    "def parse_literals(binary):\n",
    "    i = 6\n",
    "    total = ''\n",
    "    while True:\n",
    "        total += binary[i + 1:i + 5]\n",
    "        if binary[i] == '0':\n",
    "            return i + 5, int(total, 2)\n",
    "        i += 5\n",
    "    \n",
    "def parse_operation(binary, operation):\n",
    "    values = []\n",
    "    if binary[6] == '1':\n",
    "        i = 18\n",
    "        for _ in range(int(binary[7:18], 2)):\n",
    "            j, value = parse_packet(binary[i:])\n",
    "            i += j\n",
    "            values.append(value)\n",
    "    elif binary[6] == '0':\n",
    "        i = 22\n",
    "        while i < 22 + int(binary[7:22], 2):\n",
    "            j, value = parse_packet(binary[i:])\n",
    "            i += j\n",
    "            values.append(value)\n",
    "    return i, operation(values)\n",
    "\n",
    "def parse_packet(binary):\n",
    "    id = int(binary[3:6], 2)\n",
    "    if id == 4:\n",
    "        return parse_literals(binary)\n",
    "    else:\n",
    "        operations = {0: sum, 1: product, 2: min, 3: max, 5: gt, 6: lt, 7: equals}\n",
    "        return parse_operation(binary, operations[id])\n",
    "\n",
    "input = open('data/day_16').read().splitlines()[0]\n",
    "bin_input = ''.join(format(int(char, base=16), '#06b')[2:] for char in input)\n",
    "print(parse_packet(bin_input)[-1])"
   ]
  },
  {
   "cell_type": "code",
   "execution_count": 2,
   "id": "6e53af16",
   "metadata": {},
   "outputs": [
    {
     "name": "stdout",
     "output_type": "stream",
     "text": [
      "(5715, 913, 1510977819698)\n"
     ]
    }
   ],
   "source": [
    "def parsePacket(packet, i):\n",
    "    ver = int(packet[i:i+3],2)\n",
    "    id = int(packet[i+3:i+6],2)\n",
    "    i+=6\n",
    "    if id == 4:\n",
    "        moreChunks = True\n",
    "        data = \"\"\n",
    "        while moreChunks:\n",
    "            moreChunks = (packet[i] == \"1\")\n",
    "            data += packet[i+1:i+5]\n",
    "            i+=5\n",
    "        return (i, ver, int(data,2))\n",
    "    else:\n",
    "        type = int(packet[i])\n",
    "        i+=1\n",
    "        genericCounter = 0\n",
    "        acc = [0,1,-1,0,-0,-1,-1,-1][id]\n",
    "        if type == 0:# Bit count\n",
    "            genericCounter = int(packet[i:i+15],2)\n",
    "            i+=15\n",
    "        elif type == 1:# Children count\n",
    "            genericCounter = int(packet[i:i+11],2)\n",
    "            i+=11\n",
    "        while genericCounter:\n",
    "            j,verTotal,number = parsePacket(packet,i)\n",
    "            genericCounter -= j-i if type == 0 else 1# Bit counter or chidCount\n",
    "            i = j\n",
    "            ver += verTotal\n",
    "            if acc == -1: acc = number #Min, First number of greater-than/less-than/equal-to\n",
    "            elif id == 0:\n",
    "                acc += number\n",
    "            elif id == 1:\n",
    "                acc *= number\n",
    "            elif id == 2:\n",
    "                acc = min(acc,number)\n",
    "            elif id == 3:\n",
    "                acc = max(acc,number)\n",
    "            elif id == 5:\n",
    "                acc = (acc > number)\n",
    "            elif id == 6:\n",
    "                acc = (acc < number)\n",
    "            elif id == 7:\n",
    "                acc = (acc == number)\n",
    "            if acc is True: acc = 1\n",
    "            if acc is False: acc = 0\n",
    "        return (i, ver, acc)\n",
    "\n",
    "f = open(\"data/day_16\",\"r\")\n",
    "x = f.read().strip()\n",
    "data = bin(int(x,16))[2:].zfill(4*len(x))\n",
    "print(parsePacket(data,0))"
   ]
  },
  {
   "cell_type": "code",
   "execution_count": null,
   "id": "934e97ed",
   "metadata": {},
   "outputs": [],
   "source": []
  }
 ],
 "metadata": {
  "kernelspec": {
   "display_name": "Python 3 (ipykernel)",
   "language": "python",
   "name": "python3"
  },
  "language_info": {
   "codemirror_mode": {
    "name": "ipython",
    "version": 3
   },
   "file_extension": ".py",
   "mimetype": "text/x-python",
   "name": "python",
   "nbconvert_exporter": "python",
   "pygments_lexer": "ipython3",
   "version": "3.8.12"
  },
  "toc": {
   "base_numbering": 1,
   "nav_menu": {},
   "number_sections": true,
   "sideBar": true,
   "skip_h1_title": false,
   "title_cell": "Table of Contents",
   "title_sidebar": "Contents",
   "toc_cell": false,
   "toc_position": {},
   "toc_section_display": true,
   "toc_window_display": false
  }
 },
 "nbformat": 4,
 "nbformat_minor": 5
}
