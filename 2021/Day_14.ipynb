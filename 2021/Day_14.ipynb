{
 "cells": [
  {
   "cell_type": "markdown",
   "id": "ef034280",
   "metadata": {},
   "source": [
    "# Day - 14"
   ]
  },
  {
   "cell_type": "code",
   "execution_count": 5,
   "id": "3f351281",
   "metadata": {},
   "outputs": [],
   "source": [
    "from collections import defaultdict"
   ]
  },
  {
   "cell_type": "code",
   "execution_count": 57,
   "id": "e205f8a5",
   "metadata": {},
   "outputs": [],
   "source": [
    "def loading(datapath):\n",
    "    poly = \"\"\n",
    "    inst ={}\n",
    "    with open(datapath) as file:\n",
    "        for line in file :\n",
    "            if \"->\" not in line and len(line)>2:\n",
    "                poly = line.strip()\n",
    "                \n",
    "            elif \"->\" in line  :\n",
    "                a,b = line.strip().split(\" -> \")\n",
    "                inst[a] = b                \n",
    "\n",
    "    return poly, inst"
   ]
  },
  {
   "cell_type": "code",
   "execution_count": 63,
   "id": "437db019",
   "metadata": {},
   "outputs": [],
   "source": [
    "poly, inst = loading(\"data/day_14\")"
   ]
  },
  {
   "cell_type": "code",
   "execution_count": 64,
   "id": "714f7445",
   "metadata": {},
   "outputs": [],
   "source": [
    "def polymer_counts(poly):\n",
    "    elem_count = defaultdict(int)\n",
    "    pair_count = defaultdict(int)\n",
    "    \n",
    "    for i in range(len(poly) - 1):\n",
    "        elem_count[poly[i]] += 1\n",
    "        pair_count[poly[i:i+2]] += 1\n",
    "    elem_count[poly[-1]] += 1\n",
    "\n",
    "    return elem_count, pair_count"
   ]
  },
  {
   "cell_type": "code",
   "execution_count": 71,
   "id": "24064b78",
   "metadata": {},
   "outputs": [
    {
     "data": {
      "text/plain": [
       "(defaultdict(int,\n",
       "             {'S': 1,\n",
       "              'H': 4,\n",
       "              'N': 3,\n",
       "              'C': 3,\n",
       "              'O': 2,\n",
       "              'P': 1,\n",
       "              'F': 3,\n",
       "              'B': 1,\n",
       "              'V': 1,\n",
       "              'K': 1}),\n",
       " defaultdict(int,\n",
       "             {'SH': 1,\n",
       "              'HH': 1,\n",
       "              'HN': 1,\n",
       "              'NC': 1,\n",
       "              'CO': 1,\n",
       "              'OP': 1,\n",
       "              'PH': 1,\n",
       "              'HO': 1,\n",
       "              'ON': 1,\n",
       "              'NH': 1,\n",
       "              'HF': 1,\n",
       "              'FB': 1,\n",
       "              'BV': 1,\n",
       "              'VN': 1,\n",
       "              'NK': 1,\n",
       "              'KC': 1,\n",
       "              'CF': 1,\n",
       "              'FF': 1,\n",
       "              'FC': 1}))"
      ]
     },
     "execution_count": 71,
     "metadata": {},
     "output_type": "execute_result"
    }
   ],
   "source": [
    "polymer_counts(poly)"
   ]
  },
  {
   "cell_type": "code",
   "execution_count": 65,
   "id": "e54f0339",
   "metadata": {},
   "outputs": [],
   "source": [
    "def insert_pairs():\n",
    "    for pair, count in pair_count.copy().items():\n",
    "        pair_count[pair] -= count\n",
    "        add = inst[pair]\n",
    "        elem_count[add] += count\n",
    "        pair_count[pair[0] + add] += count\n",
    "        pair_count[add + pair[1]] += count"
   ]
  },
  {
   "cell_type": "code",
   "execution_count": 72,
   "id": "dcb1ae2c",
   "metadata": {},
   "outputs": [
    {
     "name": "stdout",
     "output_type": "stream",
     "text": [
      "2516901104210\n"
     ]
    }
   ],
   "source": [
    "elem_count, pair_count = polymer_counts(poly)\n",
    "\n",
    "for i in range(40):\n",
    "    insert_pairs()\n",
    "    \n",
    "print(max(elem_count.values()) - min(elem_count.values()))"
   ]
  },
  {
   "cell_type": "code",
   "execution_count": null,
   "id": "71df0640",
   "metadata": {},
   "outputs": [],
   "source": []
  }
 ],
 "metadata": {
  "kernelspec": {
   "display_name": "Python 3 (ipykernel)",
   "language": "python",
   "name": "python3"
  },
  "language_info": {
   "codemirror_mode": {
    "name": "ipython",
    "version": 3
   },
   "file_extension": ".py",
   "mimetype": "text/x-python",
   "name": "python",
   "nbconvert_exporter": "python",
   "pygments_lexer": "ipython3",
   "version": "3.8.12"
  },
  "toc": {
   "base_numbering": 1,
   "nav_menu": {},
   "number_sections": true,
   "sideBar": true,
   "skip_h1_title": false,
   "title_cell": "Table of Contents",
   "title_sidebar": "Contents",
   "toc_cell": false,
   "toc_position": {},
   "toc_section_display": true,
   "toc_window_display": false
  }
 },
 "nbformat": 4,
 "nbformat_minor": 5
}
