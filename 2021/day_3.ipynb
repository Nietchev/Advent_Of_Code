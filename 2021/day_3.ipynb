{
 "cells": [
  {
   "cell_type": "markdown",
   "id": "f3c16b3c",
   "metadata": {},
   "source": [
    "# Day-3"
   ]
  },
  {
   "cell_type": "code",
   "execution_count": 1,
   "id": "d85dc57d",
   "metadata": {},
   "outputs": [],
   "source": [
    "import numpy as np"
   ]
  },
  {
   "cell_type": "code",
   "execution_count": 75,
   "id": "aab94486",
   "metadata": {},
   "outputs": [],
   "source": [
    "data = np.genfromtxt('data/day_3', dtype=str)"
   ]
  },
  {
   "cell_type": "code",
   "execution_count": 105,
   "id": "3ab2e17a",
   "metadata": {},
   "outputs": [
    {
     "data": {
      "text/plain": [
       "'111100000101'"
      ]
     },
     "execution_count": 105,
     "metadata": {},
     "output_type": "execute_result"
    }
   ],
   "source": [
    "data[0]"
   ]
  },
  {
   "cell_type": "code",
   "execution_count": 71,
   "id": "92a1eedf",
   "metadata": {},
   "outputs": [],
   "source": [
    "most = np.zeros(len(data[0]),dtype=int)\n",
    "least = np.zeros(len(data[0]),dtype=int)\n",
    "\n",
    "for k in range(len(data[0])):\n",
    "    for line in data:\n",
    "        most[k] += int(line[k])\n",
    "        \n",
    "    if most[k] < 500:\n",
    "        most[k] = 0\n",
    "        least[k] = 1\n",
    "    else:\n",
    "        most[k] = 1\n",
    "        least[k] = 0"
   ]
  },
  {
   "cell_type": "code",
   "execution_count": 72,
   "id": "09347825",
   "metadata": {},
   "outputs": [
    {
     "data": {
      "text/plain": [
       "(3004, 1091)"
      ]
     },
     "execution_count": 72,
     "metadata": {},
     "output_type": "execute_result"
    }
   ],
   "source": [
    "gamma = ''\n",
    "epsilon = ''\n",
    "for i in range(len(most)):\n",
    "    gamma = gamma + str(most[i])\n",
    "    epsilon = epsilon + str(least[i])\n",
    "    \n",
    "gamma = int(gamma, 2)\n",
    "epsilon = int(epsilon, 2)\n",
    "gamma, epsilon"
   ]
  },
  {
   "cell_type": "code",
   "execution_count": 73,
   "id": "574c06bc",
   "metadata": {},
   "outputs": [
    {
     "data": {
      "text/plain": [
       "3277364"
      ]
     },
     "execution_count": 73,
     "metadata": {},
     "output_type": "execute_result"
    }
   ],
   "source": [
    "3004 * 1091"
   ]
  },
  {
   "cell_type": "code",
   "execution_count": 179,
   "id": "1f3a489c",
   "metadata": {},
   "outputs": [],
   "source": [
    "def get_most(data, col):\n",
    "    return data[col].value_counts().index[0]\n",
    "\n",
    "def get_least(data, col):\n",
    "    return data[col].value_counts().index[1]"
   ]
  },
  {
   "cell_type": "markdown",
   "id": "6195e5e3",
   "metadata": {},
   "source": [
    "# Part -2"
   ]
  },
  {
   "cell_type": "code",
   "execution_count": 76,
   "id": "bfb12aac",
   "metadata": {},
   "outputs": [],
   "source": [
    "import pandas as pd"
   ]
  },
  {
   "cell_type": "code",
   "execution_count": 128,
   "id": "48cb02b3",
   "metadata": {},
   "outputs": [],
   "source": [
    "#data_oxy = pd.read_csv('data/day_3', dtype=str, header=None, names=['num'])\n",
    "#data_c2 = pd.read_csv('data/day_3', dtype=str, header=None, names=['num'])"
   ]
  },
  {
   "cell_type": "code",
   "execution_count": 183,
   "id": "6e4a56ad",
   "metadata": {},
   "outputs": [],
   "source": [
    "columns=['a','b','c','d','e','f','g','h','i','j','k','l']"
   ]
  },
  {
   "cell_type": "code",
   "execution_count": 184,
   "id": "a3a0d32d",
   "metadata": {},
   "outputs": [],
   "source": [
    "raw = [ [ int(data[k][i]) for i in range(len(data[0])) ] for k in range(len(data)) ]\n",
    "raw = pd.DataFrame(raw, columns=columns)"
   ]
  },
  {
   "cell_type": "code",
   "execution_count": 201,
   "id": "64e01b7e",
   "metadata": {},
   "outputs": [],
   "source": [
    "oxy = raw.copy()\n",
    "co2 = raw.copy()"
   ]
  },
  {
   "cell_type": "code",
   "execution_count": 207,
   "id": "5024a950",
   "metadata": {},
   "outputs": [],
   "source": [
    "for col in columns:\n",
    "    if co2.shape[0] > 2:\n",
    "        co2 = co2[co2[col] == get_least(co2,col)]\n",
    "    if oxy.shape[0] > 2:\n",
    "        oxy = oxy[oxy[col] == get_most(oxy,col)]"
   ]
  },
  {
   "cell_type": "code",
   "execution_count": 208,
   "id": "c21c8b0e",
   "metadata": {},
   "outputs": [
    {
     "data": {
      "text/html": [
       "<div>\n",
       "<style scoped>\n",
       "    .dataframe tbody tr th:only-of-type {\n",
       "        vertical-align: middle;\n",
       "    }\n",
       "\n",
       "    .dataframe tbody tr th {\n",
       "        vertical-align: top;\n",
       "    }\n",
       "\n",
       "    .dataframe thead th {\n",
       "        text-align: right;\n",
       "    }\n",
       "</style>\n",
       "<table border=\"1\" class=\"dataframe\">\n",
       "  <thead>\n",
       "    <tr style=\"text-align: right;\">\n",
       "      <th></th>\n",
       "      <th>a</th>\n",
       "      <th>b</th>\n",
       "      <th>c</th>\n",
       "      <th>d</th>\n",
       "      <th>e</th>\n",
       "      <th>f</th>\n",
       "      <th>g</th>\n",
       "      <th>h</th>\n",
       "      <th>i</th>\n",
       "      <th>j</th>\n",
       "      <th>k</th>\n",
       "      <th>l</th>\n",
       "    </tr>\n",
       "  </thead>\n",
       "  <tbody>\n",
       "    <tr>\n",
       "      <th>927</th>\n",
       "      <td>0</td>\n",
       "      <td>1</td>\n",
       "      <td>1</td>\n",
       "      <td>0</td>\n",
       "      <td>0</td>\n",
       "      <td>1</td>\n",
       "      <td>0</td>\n",
       "      <td>0</td>\n",
       "      <td>0</td>\n",
       "      <td>0</td>\n",
       "      <td>0</td>\n",
       "      <td>1</td>\n",
       "    </tr>\n",
       "  </tbody>\n",
       "</table>\n",
       "</div>"
      ],
      "text/plain": [
       "     a  b  c  d  e  f  g  h  i  j  k  l\n",
       "927  0  1  1  0  0  1  0  0  0  0  0  1"
      ]
     },
     "execution_count": 208,
     "metadata": {},
     "output_type": "execute_result"
    }
   ],
   "source": [
    "co2"
   ]
  },
  {
   "cell_type": "code",
   "execution_count": 210,
   "id": "db79e2bf",
   "metadata": {},
   "outputs": [
    {
     "data": {
      "text/html": [
       "<div>\n",
       "<style scoped>\n",
       "    .dataframe tbody tr th:only-of-type {\n",
       "        vertical-align: middle;\n",
       "    }\n",
       "\n",
       "    .dataframe tbody tr th {\n",
       "        vertical-align: top;\n",
       "    }\n",
       "\n",
       "    .dataframe thead th {\n",
       "        text-align: right;\n",
       "    }\n",
       "</style>\n",
       "<table border=\"1\" class=\"dataframe\">\n",
       "  <thead>\n",
       "    <tr style=\"text-align: right;\">\n",
       "      <th></th>\n",
       "      <th>a</th>\n",
       "      <th>b</th>\n",
       "      <th>c</th>\n",
       "      <th>d</th>\n",
       "      <th>e</th>\n",
       "      <th>f</th>\n",
       "      <th>g</th>\n",
       "      <th>h</th>\n",
       "      <th>i</th>\n",
       "      <th>j</th>\n",
       "      <th>k</th>\n",
       "      <th>l</th>\n",
       "    </tr>\n",
       "  </thead>\n",
       "  <tbody>\n",
       "    <tr>\n",
       "      <th>180</th>\n",
       "      <td>1</td>\n",
       "      <td>1</td>\n",
       "      <td>0</td>\n",
       "      <td>1</td>\n",
       "      <td>1</td>\n",
       "      <td>1</td>\n",
       "      <td>1</td>\n",
       "      <td>1</td>\n",
       "      <td>1</td>\n",
       "      <td>1</td>\n",
       "      <td>1</td>\n",
       "      <td>0</td>\n",
       "    </tr>\n",
       "    <tr>\n",
       "      <th>824</th>\n",
       "      <td>1</td>\n",
       "      <td>1</td>\n",
       "      <td>0</td>\n",
       "      <td>1</td>\n",
       "      <td>1</td>\n",
       "      <td>1</td>\n",
       "      <td>1</td>\n",
       "      <td>1</td>\n",
       "      <td>1</td>\n",
       "      <td>1</td>\n",
       "      <td>1</td>\n",
       "      <td>1</td>\n",
       "    </tr>\n",
       "  </tbody>\n",
       "</table>\n",
       "</div>"
      ],
      "text/plain": [
       "     a  b  c  d  e  f  g  h  i  j  k  l\n",
       "180  1  1  0  1  1  1  1  1  1  1  1  0\n",
       "824  1  1  0  1  1  1  1  1  1  1  1  1"
      ]
     },
     "execution_count": 210,
     "metadata": {},
     "output_type": "execute_result"
    }
   ],
   "source": [
    "oxy"
   ]
  },
  {
   "cell_type": "code",
   "execution_count": 217,
   "id": "46fffc4a",
   "metadata": {},
   "outputs": [
    {
     "data": {
      "text/plain": [
       "1601"
      ]
     },
     "execution_count": 217,
     "metadata": {},
     "output_type": "execute_result"
    }
   ],
   "source": [
    "c = int('011001000001',2)\n",
    "c"
   ]
  },
  {
   "cell_type": "code",
   "execution_count": 216,
   "id": "df3f45d3",
   "metadata": {},
   "outputs": [
    {
     "data": {
      "text/plain": [
       "3583"
      ]
     },
     "execution_count": 216,
     "metadata": {},
     "output_type": "execute_result"
    }
   ],
   "source": [
    "o = int('110111111111',2)\n",
    "o"
   ]
  },
  {
   "cell_type": "code",
   "execution_count": 218,
   "id": "38ebff07",
   "metadata": {},
   "outputs": [
    {
     "data": {
      "text/plain": [
       "5736383"
      ]
     },
     "execution_count": 218,
     "metadata": {},
     "output_type": "execute_result"
    }
   ],
   "source": [
    "o*c"
   ]
  },
  {
   "cell_type": "code",
   "execution_count": null,
   "id": "e0956447",
   "metadata": {},
   "outputs": [],
   "source": []
  }
 ],
 "metadata": {
  "kernelspec": {
   "display_name": "Python 3 (ipykernel)",
   "language": "python",
   "name": "python3"
  },
  "language_info": {
   "codemirror_mode": {
    "name": "ipython",
    "version": 3
   },
   "file_extension": ".py",
   "mimetype": "text/x-python",
   "name": "python",
   "nbconvert_exporter": "python",
   "pygments_lexer": "ipython3",
   "version": "3.8.12"
  },
  "toc": {
   "base_numbering": 1,
   "nav_menu": {},
   "number_sections": true,
   "sideBar": true,
   "skip_h1_title": false,
   "title_cell": "Table of Contents",
   "title_sidebar": "Contents",
   "toc_cell": false,
   "toc_position": {},
   "toc_section_display": true,
   "toc_window_display": false
  }
 },
 "nbformat": 4,
 "nbformat_minor": 5
}
