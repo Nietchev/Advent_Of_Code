{
 "cells": [
  {
   "cell_type": "markdown",
   "id": "d94a3f3f",
   "metadata": {},
   "source": [
    "# Day-2"
   ]
  },
  {
   "cell_type": "code",
   "execution_count": 47,
   "id": "82803f8f",
   "metadata": {},
   "outputs": [
    {
     "data": {
      "text/plain": [
       "(820, 2018, 1654760)"
      ]
     },
     "execution_count": 47,
     "metadata": {},
     "output_type": "execute_result"
    }
   ],
   "source": [
    "depth = 0\n",
    "x = 0\n",
    "\n",
    "with open('data/day_2') as f:\n",
    "    for line in f:\n",
    "        temp =line.strip()\n",
    "        if temp.startswith('down'):\n",
    "            depth += int(temp[-1])\n",
    "            #print(f'depth increase by {int(temp[-1])}')\n",
    "        if temp.startswith('up'):\n",
    "            depth -= int(temp[-1])\n",
    "            #print(f'depth decrease by {int(temp[-1])}')\n",
    "        if temp.startswith('forward') :\n",
    "            x += int(temp[-1])\n",
    "            #print(f'Forward by {int(temp[-1])}')\n",
    "\n",
    "depth , x , depth*x"
   ]
  },
  {
   "cell_type": "markdown",
   "id": "379b5824",
   "metadata": {},
   "source": [
    "# Part-2"
   ]
  },
  {
   "cell_type": "markdown",
   "id": "f9d20179",
   "metadata": {},
   "source": [
    "\n",
    "    down X increases your aim by X units.\n",
    "    up X decreases your aim by X units.\n",
    "    forward X does two things:\n",
    "        It increases your horizontal position by X units.\n",
    "        It increases your depth by your aim multiplied by X.\n"
   ]
  },
  {
   "cell_type": "code",
   "execution_count": 50,
   "id": "d1ec5ab4",
   "metadata": {},
   "outputs": [
    {
     "data": {
      "text/plain": [
       "(969300, 2018, 1956047400)"
      ]
     },
     "execution_count": 50,
     "metadata": {},
     "output_type": "execute_result"
    }
   ],
   "source": [
    "depth = 0\n",
    "x = 0\n",
    "aim = 0\n",
    "\n",
    "with open('data/day_2') as f:\n",
    "    for line in f:\n",
    "        temp =line.strip()\n",
    "        if temp.startswith('down'):\n",
    "            aim += int(temp[-1])\n",
    "            #print(f'depth increase by {int(temp[-1])}')\n",
    "        if temp.startswith('up'):\n",
    "            aim -= int(temp[-1])\n",
    "            #print(f'depth decrease by {int(temp[-1])}')\n",
    "        if temp.startswith('forward') :\n",
    "            x += int(temp[-1])\n",
    "            depth += int(temp[-1])*aim\n",
    "            #print(f'Forward by {int(temp[-1])}')\n",
    "\n",
    "depth , x , depth*x"
   ]
  },
  {
   "cell_type": "code",
   "execution_count": null,
   "id": "66a64f69",
   "metadata": {},
   "outputs": [],
   "source": []
  }
 ],
 "metadata": {
  "kernelspec": {
   "display_name": "Python 3 (ipykernel)",
   "language": "python",
   "name": "python3"
  },
  "language_info": {
   "codemirror_mode": {
    "name": "ipython",
    "version": 3
   },
   "file_extension": ".py",
   "mimetype": "text/x-python",
   "name": "python",
   "nbconvert_exporter": "python",
   "pygments_lexer": "ipython3",
   "version": "3.8.12"
  },
  "toc": {
   "base_numbering": 1,
   "nav_menu": {},
   "number_sections": true,
   "sideBar": true,
   "skip_h1_title": false,
   "title_cell": "Table of Contents",
   "title_sidebar": "Contents",
   "toc_cell": false,
   "toc_position": {},
   "toc_section_display": true,
   "toc_window_display": false
  }
 },
 "nbformat": 4,
 "nbformat_minor": 5
}
