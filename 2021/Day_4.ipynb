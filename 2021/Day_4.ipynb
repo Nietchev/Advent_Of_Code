{
 "cells": [
  {
   "cell_type": "markdown",
   "id": "8f74294b",
   "metadata": {},
   "source": [
    "# Day_4"
   ]
  },
  {
   "cell_type": "code",
   "execution_count": null,
   "id": "877158cf",
   "metadata": {},
   "outputs": [],
   "source": [
    "import pandas as pd\n",
    "import numpy as np"
   ]
  },
  {
   "cell_type": "code",
   "execution_count": null,
   "id": "e04067eb",
   "metadata": {},
   "outputs": [],
   "source": [
    "tirage = np.genfromtxt('data/day_4_num', delimiter=',', dtype=int)"
   ]
  },
  {
   "cell_type": "code",
   "execution_count": null,
   "id": "11c911cf",
   "metadata": {},
   "outputs": [],
   "source": [
    "tirage"
   ]
  },
  {
   "cell_type": "code",
   "execution_count": null,
   "id": "675c2817",
   "metadata": {},
   "outputs": [],
   "source": [
    "def load_board(path_data):\n",
    "    boards = []\n",
    "    board = []\n",
    "    count = 0\n",
    "    \n",
    "    with open(path_data) as file:\n",
    "        for line in file:\n",
    "            if count == 5 :\n",
    "                count = 0\n",
    "                boards.append(np.array(board))\n",
    "                board = []\n",
    "\n",
    "            else :\n",
    "                board.append(line.strip().split())\n",
    "                count += 1\n",
    "\n",
    "    boards.append(np.array(board))\n",
    "    return boards"
   ]
  },
  {
   "cell_type": "code",
   "execution_count": null,
   "id": "e14a9f31",
   "metadata": {},
   "outputs": [],
   "source": [
    "boards = load_board('data/day_4_boards')"
   ]
  },
  {
   "cell_type": "code",
   "execution_count": null,
   "id": "3fb75c33",
   "metadata": {},
   "outputs": [],
   "source": [
    "boards[99]"
   ]
  },
  {
   "cell_type": "code",
   "execution_count": null,
   "id": "bc6918b3",
   "metadata": {},
   "outputs": [],
   "source": [
    "def chek_line(boards, tirage):\n",
    "    for i in range(100):\n",
    "        min_tir = tirage[:i]\n",
    "        for lines in boards:\n",
    "            bingo = 0\n",
    "            for num in lines:\n",
    "                if int(num) in min_tir:\n",
    "                    bingo += 1\n",
    "            if bingo == 5:\n",
    "                #print(f'found {i}eme chiffre')\n",
    "                return i"
   ]
  },
  {
   "cell_type": "code",
   "execution_count": null,
   "id": "7640bf24",
   "metadata": {},
   "outputs": [],
   "source": [
    "min_tir = [ chek_line(boards[i],tirage) for i in range(100)]\n",
    "min_tir_col = [ chek_line(boards[i].T,tirage) for i in range(100)]"
   ]
  },
  {
   "cell_type": "code",
   "execution_count": null,
   "id": "ad88d148",
   "metadata": {},
   "outputs": [],
   "source": [
    "minpos_line = min_tir.index(min(min_tir))\n",
    "minpos_line, min(min_tir)"
   ]
  },
  {
   "cell_type": "code",
   "execution_count": null,
   "id": "2747fb03",
   "metadata": {},
   "outputs": [],
   "source": [
    "minpos_col = min_tir_col.index(min(min_tir_col))\n",
    "minpos_col, min(min_tir_col)"
   ]
  },
  {
   "cell_type": "code",
   "execution_count": null,
   "id": "0280339e",
   "metadata": {},
   "outputs": [],
   "source": [
    "boards[16]"
   ]
  },
  {
   "cell_type": "code",
   "execution_count": 6,
   "id": "ffba55cc",
   "metadata": {},
   "outputs": [
    {
     "name": "stdout",
     "output_type": "stream",
     "text": [
      "Winning score: 33462\n",
      "Last winning score: 30070\n"
     ]
    }
   ],
   "source": [
    "with open(\"data/day_4\", \"r\") as file:\n",
    "    contents = file.read()\n",
    "    sections = contents.split(\"\\n\\n\")\n",
    "    numbers = [int(num) for num in sections[0].split(\",\")]\n",
    "    boards_raw = sections[1:]\n",
    "    boards = []\n",
    "    for board_raw in boards_raw:\n",
    "        rows_raw = board_raw.split(\"\\n\")\n",
    "        board = []\n",
    "        for row_raw in rows_raw:\n",
    "            row = [int(num) for num in row_raw.split()]\n",
    "            board.append(row)\n",
    "        boards.append(board)\n",
    "\n",
    "def simulate_bingo(numbers, boards):\n",
    "    num_rows = len(boards[0])\n",
    "    num_columns = len(boards[0][0])\n",
    "\n",
    "    all_num_marked = []\n",
    "    for board in boards:\n",
    "        num_marked = [\n",
    "            [0] * num_rows,\n",
    "            [0] * num_columns\n",
    "        ]\n",
    "        all_num_marked.append(num_marked)\n",
    "\n",
    "    # Note that this assumes all numbers are positive\n",
    "    # A marked out number is signified by a \"-1\"\n",
    "    winning_board_indexes = []\n",
    "    winning_numbers = []\n",
    "    for number in numbers:\n",
    "        for i, board in enumerate(boards):\n",
    "            if i in winning_board_indexes:\n",
    "                continue\n",
    "            num_marked = all_num_marked[i]\n",
    "            for j, row in enumerate(board):\n",
    "                try:\n",
    "                    k = row.index(number)\n",
    "                except ValueError:\n",
    "                    continue\n",
    "                board[j][k] = -1\n",
    "                num_marked[0][j] += 1\n",
    "                num_marked[1][k] += 1\n",
    "            if num_rows in num_marked[0] or num_columns in num_marked[1]:\n",
    "                winning_board_indexes.append(i)\n",
    "                winning_numbers.append(number)\n",
    "    return (winning_board_indexes, winning_numbers)\n",
    "\n",
    "def calculate_unmarked_numbers_sum(board):\n",
    "    unmarked_numbers_sum = 0\n",
    "    for row in board:\n",
    "        for num in row:\n",
    "            if num > -1:\n",
    "                unmarked_numbers_sum += num\n",
    "    return unmarked_numbers_sum\n",
    "\n",
    "# Part 1\n",
    "winning_board_indexes, winning_numbers = simulate_bingo(numbers, boards)\n",
    "first_winning_board_index = winning_board_indexes[0]\n",
    "winning_board = boards[first_winning_board_index]\n",
    "unmarked_numbers_sum = calculate_unmarked_numbers_sum(winning_board)\n",
    "score = unmarked_numbers_sum * winning_numbers[0]\n",
    "print(\"Winning score:\", score)\n",
    "\n",
    "# Part 2\n",
    "last_winning_board_index = winning_board_indexes[-1]\n",
    "winning_board = boards[last_winning_board_index]\n",
    "unmarked_numbers_sum = calculate_unmarked_numbers_sum(winning_board)\n",
    "score = unmarked_numbers_sum * winning_numbers[-1]\n",
    "print(\"Last winning score:\", score)\n"
   ]
  },
  {
   "cell_type": "code",
   "execution_count": null,
   "id": "ce08e5d2",
   "metadata": {},
   "outputs": [],
   "source": []
  }
 ],
 "metadata": {
  "kernelspec": {
   "display_name": "Python 3 (ipykernel)",
   "language": "python",
   "name": "python3"
  },
  "language_info": {
   "codemirror_mode": {
    "name": "ipython",
    "version": 3
   },
   "file_extension": ".py",
   "mimetype": "text/x-python",
   "name": "python",
   "nbconvert_exporter": "python",
   "pygments_lexer": "ipython3",
   "version": "3.8.12"
  },
  "toc": {
   "base_numbering": 1,
   "nav_menu": {},
   "number_sections": true,
   "sideBar": true,
   "skip_h1_title": false,
   "title_cell": "Table of Contents",
   "title_sidebar": "Contents",
   "toc_cell": false,
   "toc_position": {},
   "toc_section_display": true,
   "toc_window_display": false
  }
 },
 "nbformat": 4,
 "nbformat_minor": 5
}
