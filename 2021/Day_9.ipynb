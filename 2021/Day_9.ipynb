{
 "cells": [
  {
   "cell_type": "markdown",
   "id": "683939be",
   "metadata": {},
   "source": [
    "# Day_9"
   ]
  },
  {
   "cell_type": "code",
   "execution_count": 20,
   "id": "f9bb4da5",
   "metadata": {},
   "outputs": [],
   "source": [
    "import numpy as np"
   ]
  },
  {
   "cell_type": "code",
   "execution_count": 102,
   "id": "09c459d5",
   "metadata": {},
   "outputs": [],
   "source": [
    "height = {(x,y): int(h) \n",
    "            for y,l in enumerate(open('data/day_9'))\n",
    "            for x,h in enumerate(l.strip())}"
   ]
  },
  {
   "cell_type": "code",
   "execution_count": 103,
   "id": "c0f41525",
   "metadata": {},
   "outputs": [],
   "source": [
    "def neighbours(x, y):\n",
    "    \"\"\" Return the list of neighbours of a given point\"\"\"\n",
    "    return filter(lambda n: n in height,\n",
    "        [(x,y-1), (x,y+1), (x-1,y), (x+1, y)])\n",
    "\n",
    "def is_low(p):\n",
    "    \"\"\" Test if a point is in lower than its neighbors\"\"\"\n",
    "    return all(height[p] < height[n] for n in neighbours(*p))"
   ]
  },
  {
   "cell_type": "code",
   "execution_count": 95,
   "id": "e9e11565",
   "metadata": {},
   "outputs": [
    {
     "name": "stdout",
     "output_type": "stream",
     "text": [
      "462\n"
     ]
    }
   ],
   "source": [
    "low_points = [*filter(is_low, height)]\n",
    "print(sum(height[p]+1 for p in low_points))"
   ]
  },
  {
   "cell_type": "code",
   "execution_count": 104,
   "id": "7e96a1be",
   "metadata": {},
   "outputs": [
    {
     "name": "stdout",
     "output_type": "stream",
     "text": [
      "1397760\n"
     ]
    }
   ],
   "source": [
    "def count_basin(p):\n",
    "    if height[p] == 9: return 0\n",
    "    del height[p]\n",
    "    return 1 + sum(map(count_basin, neighbours(*p)))\n",
    "\n",
    "basins = [count_basin(p) for p in low_points]\n",
    "print(prod(sorted(basins)[-3:]))"
   ]
  },
  {
   "cell_type": "code",
   "execution_count": null,
   "id": "8dde4bbb",
   "metadata": {},
   "outputs": [],
   "source": []
  }
 ],
 "metadata": {
  "kernelspec": {
   "display_name": "Python 3 (ipykernel)",
   "language": "python",
   "name": "python3"
  },
  "language_info": {
   "codemirror_mode": {
    "name": "ipython",
    "version": 3
   },
   "file_extension": ".py",
   "mimetype": "text/x-python",
   "name": "python",
   "nbconvert_exporter": "python",
   "pygments_lexer": "ipython3",
   "version": "3.8.12"
  },
  "toc": {
   "base_numbering": 1,
   "nav_menu": {},
   "number_sections": true,
   "sideBar": true,
   "skip_h1_title": false,
   "title_cell": "Table of Contents",
   "title_sidebar": "Contents",
   "toc_cell": false,
   "toc_position": {},
   "toc_section_display": true,
   "toc_window_display": false
  }
 },
 "nbformat": 4,
 "nbformat_minor": 5
}
