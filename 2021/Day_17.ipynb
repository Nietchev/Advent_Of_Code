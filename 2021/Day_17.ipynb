{
 "cells": [
  {
   "cell_type": "markdown",
   "id": "b32094ca",
   "metadata": {},
   "source": [
    "# Day 17 -  Part 1"
   ]
  },
  {
   "cell_type": "code",
   "execution_count": 16,
   "id": "899b9ad7",
   "metadata": {},
   "outputs": [],
   "source": [
    "import numpy as np"
   ]
  },
  {
   "cell_type": "code",
   "execution_count": 163,
   "id": "06a0b3f1",
   "metadata": {},
   "outputs": [],
   "source": [
    "#test set\n",
    "#x = [20,30]\n",
    "#y = [-10,-5]\n",
    "\n",
    "x = [111,161]\n",
    "y = [-154,-101]\n",
    "\n",
    "target_x = np.arange(x[0],x[1]+1)\n",
    "target_y = np.arange(y[0],y[1]+1)"
   ]
  },
  {
   "cell_type": "code",
   "execution_count": 164,
   "id": "b277156e",
   "metadata": {},
   "outputs": [],
   "source": [
    "def one_step(pos : dict, vel: dict):\n",
    "    pos['x'] = pos['x'] + vel['x']\n",
    "    pos['y'] = pos['y'] + vel['y']\n",
    "    \n",
    "    vel['y'] -= 1\n",
    "    \n",
    "    if vel['x']!= 0:\n",
    "        vel['x'] = np.sign(vel['x'])*abs(vel['x']-1)\n",
    "        \n",
    "    return pos, vel"
   ]
  },
  {
   "cell_type": "code",
   "execution_count": 198,
   "id": "16d2eba2",
   "metadata": {},
   "outputs": [],
   "source": [
    "def valid_shot(vel: dict) -> None:\n",
    "    pos = {'x': 0, 'y': 0}\n",
    "    max_height = int(pos['y'])\n",
    "    step = 0\n",
    "    \n",
    "    while pos['x']< max(target_x) and pos['y']> min(target_y):\n",
    "        pos, vel = one_step(pos, vel)\n",
    "\n",
    "        if pos['y'] > max_height:\n",
    "            max_height = pos['y']\n",
    "        \n",
    "        if pos['x'] in target_x and pos['y'] in target_y:\n",
    "            return max_height\n",
    "    \n",
    "    return -1"
   ]
  },
  {
   "cell_type": "code",
   "execution_count": 206,
   "id": "f9a6a33d",
   "metadata": {},
   "outputs": [],
   "source": [
    "test_set = [{'x':i, 'y' :j} for i in np.arange(0,300) for j in np.arange(0,300)]"
   ]
  },
  {
   "cell_type": "code",
   "execution_count": null,
   "id": "ad34ec88",
   "metadata": {},
   "outputs": [],
   "source": [
    "%%time\n",
    "result = [ valid_shot(vel) for vel in test_set]\n",
    "max(result)"
   ]
  },
  {
   "cell_type": "code",
   "execution_count": null,
   "id": "0b549580",
   "metadata": {},
   "outputs": [],
   "source": [
    "result = np.array(result)\n",
    "b = result[result != -1]\n",
    "b"
   ]
  },
  {
   "cell_type": "markdown",
   "id": "38e747b3",
   "metadata": {},
   "source": [
    "# Way more clean !!"
   ]
  },
  {
   "cell_type": "code",
   "execution_count": 172,
   "id": "f039093b",
   "metadata": {},
   "outputs": [
    {
     "name": "stdout",
     "output_type": "stream",
     "text": [
      "target area: x=111..161, y=-154..-101\n",
      "11781 4531\n"
     ]
    }
   ],
   "source": [
    "from re import findall\n",
    "x1,x2,y1,y2 = map(int, findall(r'-?\\d+', input()))\n",
    "\n",
    "def sim(vx, vy, px=0, py=0):\n",
    "    if px > x2 or py < y1: return 0\n",
    "    if px >= x1 and py <= y2: return 1\n",
    "    return sim(vx-(vx>0), vy-1 , px+vx, py+vy)\n",
    "\n",
    "hits = [sim(x,y) for x in range(1, 1+x2)\n",
    "                 for y in range(y1, -y1)]\n",
    "\n",
    "print(y1*(y1+1)//2, sum(hits))"
   ]
  },
  {
   "cell_type": "code",
   "execution_count": null,
   "id": "09bb17e0",
   "metadata": {},
   "outputs": [],
   "source": []
  }
 ],
 "metadata": {
  "kernelspec": {
   "display_name": "Python 3 (ipykernel)",
   "language": "python",
   "name": "python3"
  },
  "language_info": {
   "codemirror_mode": {
    "name": "ipython",
    "version": 3
   },
   "file_extension": ".py",
   "mimetype": "text/x-python",
   "name": "python",
   "nbconvert_exporter": "python",
   "pygments_lexer": "ipython3",
   "version": "3.8.12"
  },
  "toc": {
   "base_numbering": 1,
   "nav_menu": {},
   "number_sections": true,
   "sideBar": true,
   "skip_h1_title": false,
   "title_cell": "Table of Contents",
   "title_sidebar": "Contents",
   "toc_cell": false,
   "toc_position": {},
   "toc_section_display": true,
   "toc_window_display": false
  }
 },
 "nbformat": 4,
 "nbformat_minor": 5
}
