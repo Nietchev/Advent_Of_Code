{
 "cells": [
  {
   "cell_type": "markdown",
   "id": "1718826a",
   "metadata": {},
   "source": [
    "# Day_11"
   ]
  },
  {
   "cell_type": "code",
   "execution_count": 60,
   "id": "90f3d4a5",
   "metadata": {},
   "outputs": [],
   "source": [
    "with open('data/day_11') as file:\n",
    "    energy_level = {\n",
    "        complex(row, col): int(number)\n",
    "        for row, line in enumerate(file)\n",
    "        for col, number in enumerate(line.strip())\n",
    "    }"
   ]
  },
  {
   "cell_type": "code",
   "execution_count": 61,
   "id": "ee4c7639",
   "metadata": {},
   "outputs": [
    {
     "name": "stdout",
     "output_type": "stream",
     "text": [
      "1603\n",
      "222\n"
     ]
    }
   ],
   "source": [
    "step, part1, part2 = 0, 0, None\n",
    "\n",
    "while step := step + 1:\n",
    "    flashing, flashed = set(), set()\n",
    "\n",
    "    for o in energy_level.keys():\n",
    "        energy_level[o] += 1\n",
    "        if energy_level[o] > 9:\n",
    "            flashing.add(o)\n",
    "\n",
    "    while flashing:\n",
    "        o = flashing.pop()\n",
    "        energy_level[o] = 0\n",
    "        flashed.add(o)\n",
    "\n",
    "        for i in (-1 + 1j, \n",
    "                  -1j, \n",
    "                  +1 + 1j, \n",
    "                  -1, \n",
    "                  +1, \n",
    "                  -1 - 1j, +1j, +1 - 1j\n",
    "        ):\n",
    "            if (x := o + i) in energy_level and x not in flashed:\n",
    "                energy_level[x] += 1\n",
    "                if energy_level[x] > 9:\n",
    "                    flashing.add(x)\n",
    "\n",
    "    if part2 is None and len(flashed) == len(energy_level):\n",
    "        part2 = step\n",
    "\n",
    "    if step <= 100:\n",
    "        part1 += len(flashed)\n",
    "    elif part2:\n",
    "        break\n",
    "\n",
    "print(part1)\n",
    "print(part2)"
   ]
  },
  {
   "cell_type": "code",
   "execution_count": null,
   "id": "ca8fc548",
   "metadata": {},
   "outputs": [],
   "source": []
  }
 ],
 "metadata": {
  "kernelspec": {
   "display_name": "Python 3 (ipykernel)",
   "language": "python",
   "name": "python3"
  },
  "language_info": {
   "codemirror_mode": {
    "name": "ipython",
    "version": 3
   },
   "file_extension": ".py",
   "mimetype": "text/x-python",
   "name": "python",
   "nbconvert_exporter": "python",
   "pygments_lexer": "ipython3",
   "version": "3.8.12"
  },
  "toc": {
   "base_numbering": 1,
   "nav_menu": {},
   "number_sections": true,
   "sideBar": true,
   "skip_h1_title": false,
   "title_cell": "Table of Contents",
   "title_sidebar": "Contents",
   "toc_cell": false,
   "toc_position": {},
   "toc_section_display": true,
   "toc_window_display": false
  }
 },
 "nbformat": 4,
 "nbformat_minor": 5
}
