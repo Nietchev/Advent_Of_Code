{
 "cells": [
  {
   "cell_type": "markdown",
   "id": "c6e8bb30",
   "metadata": {},
   "source": [
    "# Day 6"
   ]
  },
  {
   "cell_type": "code",
   "execution_count": 60,
   "id": "a67a9527",
   "metadata": {},
   "outputs": [],
   "source": [
    "import numpy as np\n",
    "from numpy import genfromtxt"
   ]
  },
  {
   "cell_type": "code",
   "execution_count": 44,
   "id": "712d8473",
   "metadata": {},
   "outputs": [],
   "source": [
    "list_test = [3,4,3,1,2]"
   ]
  },
  {
   "cell_type": "code",
   "execution_count": 84,
   "id": "a89d1fd5",
   "metadata": {},
   "outputs": [],
   "source": [
    "list_full = genfromtxt('data/day_6', delimiter=',', dtype=int)"
   ]
  },
  {
   "cell_type": "code",
   "execution_count": 54,
   "id": "e8784346",
   "metadata": {},
   "outputs": [],
   "source": [
    "def new_day(list_input):\n",
    "    new_list = []\n",
    "    count = 0\n",
    "    for index, num in  enumerate(list_input):\n",
    "        new_list.append(num-1)\n",
    "        \n",
    "        if new_list[index] == -1:\n",
    "            new_list[index] = 6\n",
    "            count += 1\n",
    "            \n",
    "    for _ in range(count):\n",
    "        new_list.append(8)\n",
    "    return new_list"
   ]
  },
  {
   "cell_type": "code",
   "execution_count": 67,
   "id": "92d44703",
   "metadata": {},
   "outputs": [],
   "source": [
    "def after_x_days(x:int, list_input):\n",
    "    res = list_input\n",
    "    for i in range(x):\n",
    "        res = new_day(res)\n",
    "    return res"
   ]
  },
  {
   "cell_type": "code",
   "execution_count": 89,
   "id": "48b58d5c",
   "metadata": {},
   "outputs": [
    {
     "data": {
      "text/plain": [
       "26"
      ]
     },
     "execution_count": 89,
     "metadata": {},
     "output_type": "execute_result"
    }
   ],
   "source": [
    "len(after_x_days(18,list_test))"
   ]
  },
  {
   "cell_type": "code",
   "execution_count": 85,
   "id": "d00987cf",
   "metadata": {},
   "outputs": [
    {
     "name": "stdout",
     "output_type": "stream",
     "text": [
      "1604361182149\n"
     ]
    }
   ],
   "source": [
    "import numpy as np\n",
    "population = np.bincount(list_full,minlength=9)\n",
    "\n",
    "for _ in range(256):\n",
    "    population = np.roll(population,-1)\n",
    "    population[6] += population[8]\n",
    "print(sum(population))"
   ]
  }
 ],
 "metadata": {
  "kernelspec": {
   "display_name": "Python 3 (ipykernel)",
   "language": "python",
   "name": "python3"
  },
  "language_info": {
   "codemirror_mode": {
    "name": "ipython",
    "version": 3
   },
   "file_extension": ".py",
   "mimetype": "text/x-python",
   "name": "python",
   "nbconvert_exporter": "python",
   "pygments_lexer": "ipython3",
   "version": "3.8.12"
  },
  "toc": {
   "base_numbering": 1,
   "nav_menu": {},
   "number_sections": true,
   "sideBar": true,
   "skip_h1_title": false,
   "title_cell": "Table of Contents",
   "title_sidebar": "Contents",
   "toc_cell": false,
   "toc_position": {},
   "toc_section_display": true,
   "toc_window_display": false
  }
 },
 "nbformat": 4,
 "nbformat_minor": 5
}
