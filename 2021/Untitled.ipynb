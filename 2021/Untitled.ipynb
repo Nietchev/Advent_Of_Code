{
 "cells": [
  {
   "cell_type": "markdown",
   "id": "8dd4d166",
   "metadata": {},
   "source": [
    "# Day 7"
   ]
  },
  {
   "cell_type": "code",
   "execution_count": 44,
   "id": "0b542ce1",
   "metadata": {},
   "outputs": [],
   "source": [
    "import numpy as np\n",
    "from numpy import genfromtxt"
   ]
  },
  {
   "cell_type": "code",
   "execution_count": 45,
   "id": "0f7e3a1f",
   "metadata": {},
   "outputs": [],
   "source": [
    "input_test =np.array([16,1,2,0,4,2,7,1,2,14])"
   ]
  },
  {
   "cell_type": "code",
   "execution_count": 56,
   "id": "7f3a598e",
   "metadata": {},
   "outputs": [],
   "source": [
    "input_full = genfromtxt('data/day_7',delimiter=',',dtype=int)"
   ]
  },
  {
   "cell_type": "code",
   "execution_count": 48,
   "id": "bc492014",
   "metadata": {},
   "outputs": [],
   "source": [
    "def cost_fuel(list_pos : list) -> int:\n",
    "    list_res = []\n",
    "    for i in range(min(list_pos),max(list_pos)):\n",
    "        list_res.append(sum(abs(list_pos-i)))\n",
    "        \n",
    "    return min(list_res)\n",
    "        "
   ]
  },
  {
   "cell_type": "code",
   "execution_count": 58,
   "id": "3f194e81",
   "metadata": {},
   "outputs": [
    {
     "data": {
      "text/plain": [
       "340056"
      ]
     },
     "execution_count": 58,
     "metadata": {},
     "output_type": "execute_result"
    }
   ],
   "source": [
    "cost_fuel(input_full)"
   ]
  },
  {
   "cell_type": "code",
   "execution_count": 60,
   "id": "0731aa38",
   "metadata": {},
   "outputs": [],
   "source": [
    "def cost_fuel_adjusted(list_pos : list) -> int:\n",
    "    list_res = []\n",
    "    for i in range(min(list_pos),max(list_pos)):\n",
    "        list_res.append(sum((abs(list_pos-i)*(abs(list_pos-i)+1)) /2))\n",
    "\n",
    "    return min(list_res)"
   ]
  },
  {
   "cell_type": "code",
   "execution_count": 62,
   "id": "c18bc32c",
   "metadata": {},
   "outputs": [
    {
     "data": {
      "text/plain": [
       "96592275.0"
      ]
     },
     "execution_count": 62,
     "metadata": {},
     "output_type": "execute_result"
    }
   ],
   "source": [
    "cost_fuel_adjusted(input_full)"
   ]
  },
  {
   "cell_type": "code",
   "execution_count": null,
   "id": "70d10e3a",
   "metadata": {},
   "outputs": [],
   "source": []
  }
 ],
 "metadata": {
  "kernelspec": {
   "display_name": "Python 3 (ipykernel)",
   "language": "python",
   "name": "python3"
  },
  "language_info": {
   "codemirror_mode": {
    "name": "ipython",
    "version": 3
   },
   "file_extension": ".py",
   "mimetype": "text/x-python",
   "name": "python",
   "nbconvert_exporter": "python",
   "pygments_lexer": "ipython3",
   "version": "3.8.12"
  },
  "toc": {
   "base_numbering": 1,
   "nav_menu": {},
   "number_sections": true,
   "sideBar": true,
   "skip_h1_title": false,
   "title_cell": "Table of Contents",
   "title_sidebar": "Contents",
   "toc_cell": false,
   "toc_position": {},
   "toc_section_display": true,
   "toc_window_display": false
  }
 },
 "nbformat": 4,
 "nbformat_minor": 5
}
